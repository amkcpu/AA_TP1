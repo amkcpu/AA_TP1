{
 "cells": [
  {
   "cell_type": "code",
   "execution_count": 1,
   "metadata": {
    "pycharm": {
     "is_executing": false,
     "name": "#%%\n"
    }
   },
   "outputs": [
    {
     "name": "stdout",
     "text": [
      "FULL RSS = 679.0730522791952\n6 VARIABLES RSS = 999.3514641333732\nFULL R2-adj = 0.9754850716153274\n6 VARIABLES R2-adj = 0.9670519781799259\n['waist.girth', 'knee.girth', 'height', 'thigh.girth', 'forearm.girth', 'chest.girth']\n"
     ],
     "output_type": "stream"
    }
   ],
   "source": [
    "%matplotlib notebook\n",
    "\n",
    "from ml_tps.regression_exercise.exercise_medidas_corporales import main as m_corporales\n",
    "\n",
    "m_corporales(6)"
   ]
  }
 ],
 "metadata": {
  "kernelspec": {
   "display_name": "Python 3",
   "language": "python",
   "name": "python3"
  },
  "language_info": {
   "codemirror_mode": {
    "name": "ipython",
    "version": 3
   },
   "file_extension": ".py",
   "mimetype": "text/x-python",
   "name": "python",
   "nbconvert_exporter": "python",
   "pygments_lexer": "ipython3",
   "version": "3.6.7"
  },
  "pycharm": {
   "stem_cell": {
    "cell_type": "raw",
    "source": [],
    "metadata": {
     "collapsed": false
    }
   }
  }
 },
 "nbformat": 4,
 "nbformat_minor": 1
}