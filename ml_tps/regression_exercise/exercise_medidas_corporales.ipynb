{
 "cells": [
  {
   "cell_type": "code",
   "execution_count": 3,
   "metadata": {
    "pycharm": {
     "is_executing": false,
     "name": "#%%\n"
    }
   },
   "outputs": [
    {
     "name": "stdout",
     "text": [
      "FULL RSS = 706.0987611221833\n3 VARIABLES RSS = 2810.713560669958\nFULL R2 = 0.9751068063577333\n3 VARIABLES R2 = 0.9108683981710177\n"
     ],
     "output_type": "stream"
    }
   ],
   "source": [
    "%matplotlib notebook\n",
    "\n",
    "from ml_tps.regression_exercise.exercise_medidas_corporales import main as m_corporales\n",
    "m_corporales(3)"
   ]
  }
 ],
 "metadata": {
  "kernelspec": {
   "display_name": "Python 3",
   "language": "python",
   "name": "python3"
  },
  "language_info": {
   "codemirror_mode": {
    "name": "ipython",
    "version": 3
   },
   "file_extension": ".py",
   "mimetype": "text/x-python",
   "name": "python",
   "nbconvert_exporter": "python",
   "pygments_lexer": "ipython3",
   "version": "3.6.7"
  },
  "pycharm": {
   "stem_cell": {
    "cell_type": "raw",
    "source": [],
    "metadata": {
     "collapsed": false
    }
   }
  }
 },
 "nbformat": 4,
 "nbformat_minor": 1
}