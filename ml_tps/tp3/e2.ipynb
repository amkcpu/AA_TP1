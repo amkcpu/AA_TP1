{
 "cells": [
  {
   "cell_type": "markdown",
   "source": [
    "# TP3 - Ejercicio 2\n",
    "### Enunciado\n",
    "a)  Dividir aleatoriamente el conjunto de datos en dos conjuntos, uno de entrenamiento y uno de prueba.\n",
    "\n",
    "b)  Clasificar la variable categórica _sigdz_ que indica si el paciente posee o no una enfermedad coronaria, utilizando el método SVM. Calcular la matriz de confusión.\n",
    "\n",
    "c)  Proponer  (y  tambien  realizar)  una  secuencia  de  pasos que  permita  encontrar  una clasificación  mejor  que  la  anterior,  evaluando  diferentes  valores  de C y  diferentes núcleos."
   ],
   "metadata": {
    "collapsed": false
   }
  },
  {
   "cell_type": "code",
   "execution_count": 13,
   "outputs": [
    {
     "name": "stdout",
     "text": [
      "Module and package import success\n"
     ],
     "output_type": "stream"
    }
   ],
   "source": [
    "from IPython.display import display\n",
    "import datetime\n",
    "import pandas as pd\n",
    "import numpy as np\n",
    "import os\n",
    "from sklearn import svm\n",
    "from ml_tps.utils.evaluation_utils import getConfusionMatrix, computeAccuracy\n",
    "from ml_tps.utils.dataframe_utils import divide_in_training_test_datasets, scale_dataset, seperateDatasetObjectiveData\n",
    "\n",
    "print(\"Module and package import success\")"
   ],
   "metadata": {
    "collapsed": false,
    "pycharm": {
     "name": "#%%\n",
     "is_executing": false
    }
   }
  },
  {
   "cell_type": "code",
   "execution_count": 14,
   "metadata": {
    "pycharm": {
     "is_executing": false,
     "name": "#%%\n"
    }
   },
   "outputs": [
    {
     "name": "stdout",
     "text": [
      "Variable setting and data import success\n"
     ],
     "output_type": "stream"
    }
   ],
   "source": [
    "dir_path = os.path.dirname(os.path.realpath(\"e2.ipynb\"))\n",
    "DEFAULT_FILEPATH = f\"{dir_path}/../tp3/data/acath.xls\"\n",
    "DEFAULT_OBJECTIVE = \"sigdz\"\n",
    "DEFAULT_TRAIN_PCTG = 0.6\n",
    "DEFAULT_CV_PCTG = 0.2\n",
    "\n",
    "print(\"Variable setting and data import success\")"
   ]
  },
  {
   "cell_type": "markdown",
   "source": [
    "## Información sobre los conjuntos de datos usados"
   ],
   "metadata": {
    "collapsed": false,
    "pycharm": {
     "name": "#%% md\n"
    }
   }
  },
  {
   "cell_type": "code",
   "execution_count": 15,
   "outputs": [
    {
     "name": "stdout",
     "text": [
      "*** No CODEPAGE record, no encoding_override: will use 'ascii'\n"
     ],
     "output_type": "stream"
    },
    {
     "data": {
      "text/plain": "                                                    acath.xls\nDimensiones del conjunto de datos original (des...  (2258, 6)\nDimensiones del conjunto de entrenamiento           (1354, 6)\nDimensiones del conjunto de validación cruzada       (452, 6)\nDimensiones del conjunto de evaluación               (452, 6)\n% de datos utilizados para entrenamiento                  60%\n% de datos utilizados para validación cruzada             20%\n% de datos utilizados para evaluación                     20%\nVariable objetivo de la clasificación                   sigdz",
      "text/html": "<div>\n<style scoped>\n    .dataframe tbody tr th:only-of-type {\n        vertical-align: middle;\n    }\n\n    .dataframe tbody tr th {\n        vertical-align: top;\n    }\n\n    .dataframe thead th {\n        text-align: right;\n    }\n</style>\n<table border=\"1\" class=\"dataframe\">\n  <thead>\n    <tr style=\"text-align: right;\">\n      <th></th>\n      <th>acath.xls</th>\n    </tr>\n  </thead>\n  <tbody>\n    <tr>\n      <th>Dimensiones del conjunto de datos original (descartando NaN)</th>\n      <td>(2258, 6)</td>\n    </tr>\n    <tr>\n      <th>Dimensiones del conjunto de entrenamiento</th>\n      <td>(1354, 6)</td>\n    </tr>\n    <tr>\n      <th>Dimensiones del conjunto de validación cruzada</th>\n      <td>(452, 6)</td>\n    </tr>\n    <tr>\n      <th>Dimensiones del conjunto de evaluación</th>\n      <td>(452, 6)</td>\n    </tr>\n    <tr>\n      <th>% de datos utilizados para entrenamiento</th>\n      <td>60%</td>\n    </tr>\n    <tr>\n      <th>% de datos utilizados para validación cruzada</th>\n      <td>20%</td>\n    </tr>\n    <tr>\n      <th>% de datos utilizados para evaluación</th>\n      <td>20%</td>\n    </tr>\n    <tr>\n      <th>Variable objetivo de la clasificación</th>\n      <td>sigdz</td>\n    </tr>\n  </tbody>\n</table>\n</div>"
     },
     "metadata": {},
     "output_type": "execute_result",
     "execution_count": 15
    }
   ],
   "source": [
    "# a)  Divide dataset randomly into training and evaluation set\n",
    "dataset = pd.read_excel(DEFAULT_FILEPATH)\n",
    "dataset = dataset.dropna()      # TODO maybe deal with NaN otherwise?\n",
    "dataset_scaled = scale_dataset(dataset, objective=DEFAULT_OBJECTIVE, ignore_objective=True, scaling_type=\"minmax\")\n",
    "\n",
    "train, testing_sets = divide_in_training_test_datasets(dataset_scaled, train_pctg=DEFAULT_TRAIN_PCTG)\n",
    "cv_set, test = divide_in_training_test_datasets(testing_sets, train_pctg=DEFAULT_CV_PCTG/(1-DEFAULT_TRAIN_PCTG))\n",
    "\n",
    "X_train, y_train = seperateDatasetObjectiveData(train, DEFAULT_OBJECTIVE)\n",
    "X_cv_set, y_cv_set = seperateDatasetObjectiveData(cv_set, DEFAULT_OBJECTIVE)\n",
    "X_test, y_test = seperateDatasetObjectiveData(test, DEFAULT_OBJECTIVE)\n",
    "\n",
    "data_info = pd.Series({\"Dimensiones del conjunto de datos original (descartando NaN)\": dataset.shape,\n",
    "                      \"Dimensiones del conjunto de entrenamiento\": train.shape,\n",
    "                      \"Dimensiones del conjunto de validación cruzada\": cv_set.shape,\n",
    "                      \"Dimensiones del conjunto de evaluación\": test.shape,\n",
    "                      \"% de datos utilizados para entrenamiento\": str(int(DEFAULT_TRAIN_PCTG*100)) + \"%\",\n",
    "                      \"% de datos utilizados para validación cruzada\": str(int(DEFAULT_CV_PCTG*100)) + \"%\",\n",
    "                      \"% de datos utilizados para evaluación\": str(int((1-DEFAULT_TRAIN_PCTG-DEFAULT_CV_PCTG)*100)) + \"%\",\n",
    "                      \"Variable objetivo de la clasificación\": DEFAULT_OBJECTIVE})\n",
    "\n",
    "pd.DataFrame(data_info, columns=[\"acath.xls\"])"
   ],
   "metadata": {
    "collapsed": false,
    "pycharm": {
     "name": "#%%\n",
     "is_executing": false
    }
   }
  },
  {
   "cell_type": "markdown",
   "source": [
    "## SVM estándar (b)"
   ],
   "metadata": {
    "collapsed": false,
    "pycharm": {
     "name": "#%% md\n"
    }
   }
  },
  {
   "cell_type": "code",
   "execution_count": 16,
   "outputs": [
    {
     "name": "stdout",
     "text": [
      "Runtime Default SVM fitting and testing:  (0.0, 0.079835) \n\nSVC(C=1, cache_size=200, class_weight=None, coef0=0.0,\n    decision_function_shape='ovr', degree=3, gamma='scale', kernel='rbf',\n    max_iter=-1, probability=False, random_state=None, shrinking=True,\n    tol=0.001, verbose=False) \n\n\n"
     ],
     "output_type": "stream"
    },
    {
     "data": {
      "text/plain": "  Núcleo Parámetro C  Precisión en conjunto de entrenamiento  \\\n0    rbf           1                                0.793944   \n\n   Precisión en conjunto de validación cruzada  \n0                                     0.785398  ",
      "text/html": "<div>\n<style scoped>\n    .dataframe tbody tr th:only-of-type {\n        vertical-align: middle;\n    }\n\n    .dataframe tbody tr th {\n        vertical-align: top;\n    }\n\n    .dataframe thead th {\n        text-align: right;\n    }\n</style>\n<table border=\"1\" class=\"dataframe\">\n  <thead>\n    <tr style=\"text-align: right;\">\n      <th></th>\n      <th>Núcleo</th>\n      <th>Parámetro C</th>\n      <th>Precisión en conjunto de entrenamiento</th>\n      <th>Precisión en conjunto de validación cruzada</th>\n    </tr>\n  </thead>\n  <tbody>\n    <tr>\n      <th>0</th>\n      <td>rbf</td>\n      <td>1</td>\n      <td>0.793944</td>\n      <td>0.785398</td>\n    </tr>\n  </tbody>\n</table>\n</div>"
     },
     "metadata": {},
     "output_type": "execute_result",
     "execution_count": 16
    }
   ],
   "source": [
    "# b)  Classify categorical variable \"sigdz\" using default SVC SVM\n",
    "words_then = datetime.datetime.now()\n",
    "c_value1 = 1\n",
    "kernel1 = \"rbf\"\n",
    "clf1 = svm.SVC(kernel=kernel1, gamma='scale', C=c_value1)      # using default parameters, written down for illustrative purposes\n",
    "clf1.fit(X_train, y_train)\n",
    "predictions_train1 = pd.Series(clf1.predict(X_train).T)\n",
    "predictions_cv1 = pd.Series(clf1.predict(X_cv_set).T)\n",
    "confusion_matrix = getConfusionMatrix(predictions_cv1, y_cv_set)\n",
    "accuracy_train1 = computeAccuracy(predictions_train1, y_train)\n",
    "accuracy_cv1 = computeAccuracy(predictions_cv1, y_cv_set)\n",
    "\n",
    "data_default_svm = pd.DataFrame(columns=[\"Núcleo\", \"Parámetro C\", \n",
    "                                         \"Precisión en conjunto de entrenamiento\", \n",
    "                                         \"Precisión en conjunto de validación cruzada\"])\n",
    "data_default_svm.loc[0] = [kernel1, c_value1, accuracy_train1, accuracy_cv1]\n",
    "\n",
    "words_now = datetime.datetime.now()\n",
    "print(\"Runtime Default SVM fitting and testing: \", divmod((words_now - words_then).total_seconds(), 60), \"\\n\")\n",
    "print(clf1, \"\\n\\n\")\n",
    "\n",
    "data_default_svm"
   ],
   "metadata": {
    "collapsed": false,
    "pycharm": {
     "name": "#%%\n",
     "is_executing": false
    }
   }
  },
  {
   "cell_type": "markdown",
   "source": [
    "__Matriz de confusión:__"
   ],
   "metadata": {
    "collapsed": false,
    "pycharm": {
     "name": "#%% md\n"
    }
   }
  },
  {
   "cell_type": "code",
   "execution_count": 17,
   "outputs": [
    {
     "data": {
      "text/plain": "Actual     0.0  1.0\nPredicted          \n0.0         96   34\n1.0         63  259",
      "text/html": "<div>\n<style scoped>\n    .dataframe tbody tr th:only-of-type {\n        vertical-align: middle;\n    }\n\n    .dataframe tbody tr th {\n        vertical-align: top;\n    }\n\n    .dataframe thead th {\n        text-align: right;\n    }\n</style>\n<table border=\"1\" class=\"dataframe\">\n  <thead>\n    <tr style=\"text-align: right;\">\n      <th>Actual</th>\n      <th>0.0</th>\n      <th>1.0</th>\n    </tr>\n    <tr>\n      <th>Predicted</th>\n      <th></th>\n      <th></th>\n    </tr>\n  </thead>\n  <tbody>\n    <tr>\n      <th>0.0</th>\n      <td>96</td>\n      <td>34</td>\n    </tr>\n    <tr>\n      <th>1.0</th>\n      <td>63</td>\n      <td>259</td>\n    </tr>\n  </tbody>\n</table>\n</div>"
     },
     "metadata": {},
     "output_type": "execute_result",
     "execution_count": 17
    }
   ],
   "source": [
    "confusion_matrix\n"
   ],
   "metadata": {
    "collapsed": false,
    "pycharm": {
     "name": "#%%\n",
     "is_executing": false
    }
   }
  },
  {
   "cell_type": "markdown",
   "source": [
    "## Ajuste de parámetros y núcleo (c)"
   ],
   "metadata": {
    "collapsed": false
   }
  },
  {
   "cell_type": "code",
   "execution_count": 18,
   "outputs": [
    {
     "name": "stdout",
     "text": [
      "\n\nRuntime parameter and kernel testing:  (0.0, 2.061494) \n\n"
     ],
     "output_type": "stream"
    },
    {
     "data": {
      "text/plain": "     Núcleo  Parámetro C  Precisión en conjunto de entrenamiento  \\\n0       rbf        0.001                                0.666174   \n1       rbf        0.010                                0.776219   \n2       rbf        0.100                                0.774742   \n3       rbf        1.000                                0.793944   \n4       rbf       10.000                                0.798375   \n5       rbf      100.000                                0.799114   \n6      poly        0.001                                0.771787   \n7      poly        0.010                                0.774742   \n8      poly        0.100                                0.774742   \n9      poly        1.000                                0.774742   \n10     poly       10.000                                0.776219   \n11     poly      100.000                                0.776957   \n12   linear        0.001                                0.666174   \n13   linear        0.010                                0.666174   \n14   linear        0.100                                0.774742   \n15   linear        1.000                                0.774742   \n16   linear       10.000                                0.774742   \n17   linear      100.000                                0.774742   \n18  sigmoid        0.001                                0.666174   \n19  sigmoid        0.010                                0.666174   \n20  sigmoid        0.100                                0.726736   \n21  sigmoid        1.000                                0.706056   \n22  sigmoid       10.000                                0.686115   \n23  sigmoid      100.000                                0.683161   \n\n    Precisión en conjunto de validación cruzada  \n0                                      0.648230  \n1                                      0.769912  \n2                                      0.772124  \n3                                      0.785398  \n4                                      0.780973  \n5                                      0.778761  \n6                                      0.772124  \n7                                      0.772124  \n8                                      0.772124  \n9                                      0.772124  \n10                                     0.772124  \n11                                     0.769912  \n12                                     0.648230  \n13                                     0.648230  \n14                                     0.772124  \n15                                     0.772124  \n16                                     0.772124  \n17                                     0.772124  \n18                                     0.648230  \n19                                     0.648230  \n20                                     0.734513  \n21                                     0.712389  \n22                                     0.676991  \n23                                     0.668142  ",
      "text/html": "<div>\n<style scoped>\n    .dataframe tbody tr th:only-of-type {\n        vertical-align: middle;\n    }\n\n    .dataframe tbody tr th {\n        vertical-align: top;\n    }\n\n    .dataframe thead th {\n        text-align: right;\n    }\n</style>\n<table border=\"1\" class=\"dataframe\">\n  <thead>\n    <tr style=\"text-align: right;\">\n      <th></th>\n      <th>Núcleo</th>\n      <th>Parámetro C</th>\n      <th>Precisión en conjunto de entrenamiento</th>\n      <th>Precisión en conjunto de validación cruzada</th>\n    </tr>\n  </thead>\n  <tbody>\n    <tr>\n      <th>0</th>\n      <td>rbf</td>\n      <td>0.001</td>\n      <td>0.666174</td>\n      <td>0.648230</td>\n    </tr>\n    <tr>\n      <th>1</th>\n      <td>rbf</td>\n      <td>0.010</td>\n      <td>0.776219</td>\n      <td>0.769912</td>\n    </tr>\n    <tr>\n      <th>2</th>\n      <td>rbf</td>\n      <td>0.100</td>\n      <td>0.774742</td>\n      <td>0.772124</td>\n    </tr>\n    <tr>\n      <th>3</th>\n      <td>rbf</td>\n      <td>1.000</td>\n      <td>0.793944</td>\n      <td>0.785398</td>\n    </tr>\n    <tr>\n      <th>4</th>\n      <td>rbf</td>\n      <td>10.000</td>\n      <td>0.798375</td>\n      <td>0.780973</td>\n    </tr>\n    <tr>\n      <th>5</th>\n      <td>rbf</td>\n      <td>100.000</td>\n      <td>0.799114</td>\n      <td>0.778761</td>\n    </tr>\n    <tr>\n      <th>6</th>\n      <td>poly</td>\n      <td>0.001</td>\n      <td>0.771787</td>\n      <td>0.772124</td>\n    </tr>\n    <tr>\n      <th>7</th>\n      <td>poly</td>\n      <td>0.010</td>\n      <td>0.774742</td>\n      <td>0.772124</td>\n    </tr>\n    <tr>\n      <th>8</th>\n      <td>poly</td>\n      <td>0.100</td>\n      <td>0.774742</td>\n      <td>0.772124</td>\n    </tr>\n    <tr>\n      <th>9</th>\n      <td>poly</td>\n      <td>1.000</td>\n      <td>0.774742</td>\n      <td>0.772124</td>\n    </tr>\n    <tr>\n      <th>10</th>\n      <td>poly</td>\n      <td>10.000</td>\n      <td>0.776219</td>\n      <td>0.772124</td>\n    </tr>\n    <tr>\n      <th>11</th>\n      <td>poly</td>\n      <td>100.000</td>\n      <td>0.776957</td>\n      <td>0.769912</td>\n    </tr>\n    <tr>\n      <th>12</th>\n      <td>linear</td>\n      <td>0.001</td>\n      <td>0.666174</td>\n      <td>0.648230</td>\n    </tr>\n    <tr>\n      <th>13</th>\n      <td>linear</td>\n      <td>0.010</td>\n      <td>0.666174</td>\n      <td>0.648230</td>\n    </tr>\n    <tr>\n      <th>14</th>\n      <td>linear</td>\n      <td>0.100</td>\n      <td>0.774742</td>\n      <td>0.772124</td>\n    </tr>\n    <tr>\n      <th>15</th>\n      <td>linear</td>\n      <td>1.000</td>\n      <td>0.774742</td>\n      <td>0.772124</td>\n    </tr>\n    <tr>\n      <th>16</th>\n      <td>linear</td>\n      <td>10.000</td>\n      <td>0.774742</td>\n      <td>0.772124</td>\n    </tr>\n    <tr>\n      <th>17</th>\n      <td>linear</td>\n      <td>100.000</td>\n      <td>0.774742</td>\n      <td>0.772124</td>\n    </tr>\n    <tr>\n      <th>18</th>\n      <td>sigmoid</td>\n      <td>0.001</td>\n      <td>0.666174</td>\n      <td>0.648230</td>\n    </tr>\n    <tr>\n      <th>19</th>\n      <td>sigmoid</td>\n      <td>0.010</td>\n      <td>0.666174</td>\n      <td>0.648230</td>\n    </tr>\n    <tr>\n      <th>20</th>\n      <td>sigmoid</td>\n      <td>0.100</td>\n      <td>0.726736</td>\n      <td>0.734513</td>\n    </tr>\n    <tr>\n      <th>21</th>\n      <td>sigmoid</td>\n      <td>1.000</td>\n      <td>0.706056</td>\n      <td>0.712389</td>\n    </tr>\n    <tr>\n      <th>22</th>\n      <td>sigmoid</td>\n      <td>10.000</td>\n      <td>0.686115</td>\n      <td>0.676991</td>\n    </tr>\n    <tr>\n      <th>23</th>\n      <td>sigmoid</td>\n      <td>100.000</td>\n      <td>0.683161</td>\n      <td>0.668142</td>\n    </tr>\n  </tbody>\n</table>\n</div>"
     },
     "metadata": {},
     "output_type": "execute_result",
     "execution_count": 18
    }
   ],
   "source": [
    "# c)  Evaluate different values for C and different nuclei to find better performing classifiers\n",
    "svm_values = pd.DataFrame(columns=[\"Núcleo\", \"Parámetro C\", \n",
    "                                   \"Precisión en conjunto de entrenamiento\", \n",
    "                                   \"Precisión en conjunto de validación cruzada\"])\n",
    "\n",
    "i = 0\n",
    "for kernel in [\"rbf\", \"poly\", \"linear\", \"sigmoid\"]:\n",
    "    for c_value in np.logspace(-3, 2, 6):\n",
    "        clf = svm.SVC(kernel=kernel, C=c_value, gamma=\"scale\", cache_size=500)\n",
    "        clf.fit(X_train, y_train)\n",
    "        predictions_train = pd.Series(clf.predict(X_train).T)\n",
    "        predictions_cv = pd.Series(clf.predict(X_cv_set).T)\n",
    "        accuracy_train = computeAccuracy(predictions_train, y_train)\n",
    "        accuracy_cv = computeAccuracy(predictions_cv, y_cv_set)\n",
    "\n",
    "        svm_values.loc[i] = [kernel, c_value, accuracy_train, accuracy_cv]\n",
    "        i += 1\n",
    "\n",
    "time_now = datetime.datetime.now()\n",
    "print(\"\\n\\nRuntime parameter and kernel testing: \", divmod((time_now - words_now).total_seconds(), 60), \"\\n\")\n",
    "\n",
    "svm_values"
   ],
   "metadata": {
    "collapsed": false,
    "pycharm": {
     "name": "#%%\n",
     "is_executing": false
    }
   }
  },
  {
   "cell_type": "markdown",
   "source": [
    "### Configuración de SVM con mejor rendimiento:\n",
    "(en conjunto de validación cruzada)\n"
   ],
   "metadata": {
    "collapsed": false,
    "pycharm": {
     "name": "#%% md\n"
    }
   }
  },
  {
   "cell_type": "code",
   "execution_count": 19,
   "outputs": [
    {
     "data": {
      "text/plain": "  Núcleo  Parámetro C  Precisión en conjunto de entrenamiento  \\\n3    rbf          1.0                                0.793944   \n\n   Precisión en conjunto de validación cruzada  \n3                                     0.785398  ",
      "text/html": "<div>\n<style scoped>\n    .dataframe tbody tr th:only-of-type {\n        vertical-align: middle;\n    }\n\n    .dataframe tbody tr th {\n        vertical-align: top;\n    }\n\n    .dataframe thead th {\n        text-align: right;\n    }\n</style>\n<table border=\"1\" class=\"dataframe\">\n  <thead>\n    <tr style=\"text-align: right;\">\n      <th></th>\n      <th>Núcleo</th>\n      <th>Parámetro C</th>\n      <th>Precisión en conjunto de entrenamiento</th>\n      <th>Precisión en conjunto de validación cruzada</th>\n    </tr>\n  </thead>\n  <tbody>\n    <tr>\n      <th>3</th>\n      <td>rbf</td>\n      <td>1.0</td>\n      <td>0.793944</td>\n      <td>0.785398</td>\n    </tr>\n  </tbody>\n</table>\n</div>"
     },
     "metadata": {},
     "output_type": "execute_result",
     "execution_count": 19
    }
   ],
   "source": [
    "# Choose SVM with highest accuracy after hyperparameter tuning\n",
    "winner = svm_values.sort_values(by=\"Precisión en conjunto de validación cruzada\", ascending=False).head(1)\n",
    "winner"
   ],
   "metadata": {
    "collapsed": false,
    "pycharm": {
     "name": "#%%\n",
     "is_executing": false
    }
   }
  },
  {
   "cell_type": "markdown",
   "source": [
    "### Rendimiento en conjunto de evaluación:"
   ],
   "metadata": {
    "collapsed": false,
    "pycharm": {
     "name": "#%% md\n"
    }
   }
  },
  {
   "cell_type": "code",
   "execution_count": 20,
   "outputs": [
    {
     "data": {
      "text/plain": "  Núcleo  Parámetro C  Precisión en conjunto de entrenamiento  \\\n3    rbf          1.0                                0.793944   \n\n   Precisión en conjunto de validación cruzada  \\\n3                                     0.785398   \n\n   Precisión en conjunto de evaluación  \n3                             0.776549  ",
      "text/html": "<div>\n<style scoped>\n    .dataframe tbody tr th:only-of-type {\n        vertical-align: middle;\n    }\n\n    .dataframe tbody tr th {\n        vertical-align: top;\n    }\n\n    .dataframe thead th {\n        text-align: right;\n    }\n</style>\n<table border=\"1\" class=\"dataframe\">\n  <thead>\n    <tr style=\"text-align: right;\">\n      <th></th>\n      <th>Núcleo</th>\n      <th>Parámetro C</th>\n      <th>Precisión en conjunto de entrenamiento</th>\n      <th>Precisión en conjunto de validación cruzada</th>\n      <th>Precisión en conjunto de evaluación</th>\n    </tr>\n  </thead>\n  <tbody>\n    <tr>\n      <th>3</th>\n      <td>rbf</td>\n      <td>1.0</td>\n      <td>0.793944</td>\n      <td>0.785398</td>\n      <td>0.776549</td>\n    </tr>\n  </tbody>\n</table>\n</div>"
     },
     "metadata": {},
     "output_type": "execute_result",
     "execution_count": 20
    }
   ],
   "source": [
    "winner_svm = svm.SVC(kernel=winner.iat[0, 0], C=winner.iat[0, 1], gamma=\"scale\", cache_size=500)\n",
    "winner_svm.fit(X_train, y_train)\n",
    "winner_test_predictions = pd.Series(winner_svm.predict(X_test).T)\n",
    "winner_test_accuracy = computeAccuracy(winner_test_predictions, y_test)\n",
    "\n",
    "winner[\"Precisión en conjunto de evaluación\"] = winner_test_accuracy\n",
    "\n",
    "winner"
   ],
   "metadata": {
    "collapsed": false,
    "pycharm": {
     "name": "#%%\n",
     "is_executing": false
    }
   }
  }
 ],
 "metadata": {
  "kernelspec": {
   "display_name": "Python 3",
   "language": "python",
   "name": "python3"
  },
  "language_info": {
   "codemirror_mode": {
    "name": "ipython",
    "version": 3
   },
   "file_extension": ".py",
   "mimetype": "text/x-python",
   "name": "python",
   "nbconvert_exporter": "python",
   "pygments_lexer": "ipython3",
   "version": "3.7.3"
  },
  "pycharm": {
   "stem_cell": {
    "cell_type": "raw",
    "source": [],
    "metadata": {
     "collapsed": false
    }
   }
  }
 },
 "nbformat": 4,
 "nbformat_minor": 2
}