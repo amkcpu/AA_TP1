{
 "cells": [
  {
   "cell_type": "markdown",
   "source": [
    "# TP3 - Ejercicio 2\n",
    "### Enunciado\n",
    "a)  Dividir aleatoriamente el conjunto de datos en dos conjuntos, uno de entrenamiento y uno de prueba.\n",
    "\n",
    "b)  Clasificar la variable categórica _sigdz_ que indica si el paciente posee o no una enfermedad coronaria, utilizando el método SVM. Calcular la matriz de confusión.\n",
    "\n",
    "c)  Proponer  (y  tambien  realizar)  una  secuencia  de  pasos que  permita  encontrar  una clasificación  mejor  que  la  anterior,  evaluando  diferentes  valores  de C y  diferentes núcleos."
   ],
   "metadata": {
    "collapsed": false
   }
  },
  {
   "cell_type": "code",
   "execution_count": 21,
   "outputs": [
    {
     "name": "stdout",
     "text": [
      "Module and package import success\n"
     ],
     "output_type": "stream"
    }
   ],
   "source": [
    "from IPython.display import display\n",
    "import datetime\n",
    "import pandas as pd\n",
    "import numpy as np\n",
    "import os\n",
    "from sklearn import svm\n",
    "from ml_tps.utils.evaluation_utils import getConfusionMatrix, computeAccuracy\n",
    "from ml_tps.utils.dataframe_utils import divide_in_training_test_datasets, scale_dataset, seperateDatasetObjectiveData\n",
    "\n",
    "print(\"Module and package import success\")"
   ],
   "metadata": {
    "collapsed": false,
    "pycharm": {
     "name": "#%%\n",
     "is_executing": false
    }
   }
  },
  {
   "cell_type": "code",
   "execution_count": 22,
   "metadata": {
    "pycharm": {
     "is_executing": false,
     "name": "#%%\n"
    }
   },
   "outputs": [
    {
     "name": "stdout",
     "text": [
      "Variable setting and data import success\n"
     ],
     "output_type": "stream"
    }
   ],
   "source": [
    "dir_path = os.path.dirname(os.path.realpath(\"e2.ipynb\"))\n",
    "DEFAULT_FILEPATH = f\"{dir_path}/../tp3/data/acath.xls\"\n",
    "DEFAULT_OBJECTIVE = \"sigdz\"\n",
    "DEFAULT_TRAIN_PCTG = 0.6\n",
    "DEFAULT_CV_PCTG = 0.2\n",
    "\n",
    "print(\"Variable setting and data import success\")"
   ]
  },
  {
   "cell_type": "markdown",
   "source": [
    "## Data set info"
   ],
   "metadata": {
    "collapsed": false,
    "pycharm": {
     "name": "#%% md\n"
    }
   }
  },
  {
   "cell_type": "code",
   "execution_count": 23,
   "outputs": [
    {
     "name": "stdout",
     "text": [
      "*** No CODEPAGE record, no encoding_override: will use 'ascii'\n"
     ],
     "output_type": "stream"
    },
    {
     "data": {
      "text/plain": "                                         acath.xls\nData set dimensions (ignoring NaN)       (2258, 6)\nTraining set dimensions                  (1354, 6)\nCV set dimensions                         (452, 6)\nTest set dimensions                       (452, 6)\n% of data set used for training                60%\n% of data set used for cross-validation        20%\n% of data set used for testing                 20%\nClassification objective                     sigdz",
      "text/html": "<div>\n<style scoped>\n    .dataframe tbody tr th:only-of-type {\n        vertical-align: middle;\n    }\n\n    .dataframe tbody tr th {\n        vertical-align: top;\n    }\n\n    .dataframe thead th {\n        text-align: right;\n    }\n</style>\n<table border=\"1\" class=\"dataframe\">\n  <thead>\n    <tr style=\"text-align: right;\">\n      <th></th>\n      <th>acath.xls</th>\n    </tr>\n  </thead>\n  <tbody>\n    <tr>\n      <th>Data set dimensions (ignoring NaN)</th>\n      <td>(2258, 6)</td>\n    </tr>\n    <tr>\n      <th>Training set dimensions</th>\n      <td>(1354, 6)</td>\n    </tr>\n    <tr>\n      <th>CV set dimensions</th>\n      <td>(452, 6)</td>\n    </tr>\n    <tr>\n      <th>Test set dimensions</th>\n      <td>(452, 6)</td>\n    </tr>\n    <tr>\n      <th>% of data set used for training</th>\n      <td>60%</td>\n    </tr>\n    <tr>\n      <th>% of data set used for cross-validation</th>\n      <td>20%</td>\n    </tr>\n    <tr>\n      <th>% of data set used for testing</th>\n      <td>20%</td>\n    </tr>\n    <tr>\n      <th>Classification objective</th>\n      <td>sigdz</td>\n    </tr>\n  </tbody>\n</table>\n</div>"
     },
     "metadata": {},
     "output_type": "execute_result",
     "execution_count": 23
    }
   ],
   "source": [
    "# a)  Divide dataset randomly into training and evaluation set\n",
    "dataset = pd.read_excel(DEFAULT_FILEPATH)\n",
    "dataset = dataset.dropna()      # TODO maybe deal with NaN otherwise?\n",
    "dataset_scaled = scale_dataset(dataset, objective=DEFAULT_OBJECTIVE, ignore_objective=True, scaling_type=\"minmax\")\n",
    "\n",
    "train, testing_sets = divide_in_training_test_datasets(dataset_scaled, train_pctg=DEFAULT_TRAIN_PCTG)\n",
    "cv_set, test = divide_in_training_test_datasets(testing_sets, train_pctg=DEFAULT_CV_PCTG/(1-DEFAULT_TRAIN_PCTG))\n",
    "\n",
    "X_train, y_train = seperateDatasetObjectiveData(train, DEFAULT_OBJECTIVE)\n",
    "X_cv_set, y_cv_set = seperateDatasetObjectiveData(cv_set, DEFAULT_OBJECTIVE)\n",
    "X_test, y_test = seperateDatasetObjectiveData(test, DEFAULT_OBJECTIVE)\n",
    "\n",
    "data_info = pd.Series({\"Data set dimensions (ignoring NaN)\": dataset.shape,\n",
    "                      \"Training set dimensions\": train.shape,\n",
    "                      \"CV set dimensions\": cv_set.shape,\n",
    "                      \"Test set dimensions\": test.shape,\n",
    "                      \"% of data set used for training\": str(int(DEFAULT_TRAIN_PCTG*100)) + \"%\",\n",
    "                      \"% of data set used for cross-validation\": str(int(DEFAULT_CV_PCTG*100)) + \"%\",\n",
    "                      \"% of data set used for testing\": str(int((1-DEFAULT_TRAIN_PCTG-DEFAULT_CV_PCTG)*100)) + \"%\",\n",
    "                      \"Classification objective\": DEFAULT_OBJECTIVE})\n",
    "\n",
    "pd.DataFrame(data_info, columns=[\"acath.xls\"])"
   ],
   "metadata": {
    "collapsed": false,
    "pycharm": {
     "name": "#%%\n",
     "is_executing": false
    }
   }
  },
  {
   "cell_type": "markdown",
   "source": [
    "## Default SVM"
   ],
   "metadata": {
    "collapsed": false,
    "pycharm": {
     "name": "#%% md\n"
    }
   }
  },
  {
   "cell_type": "code",
   "execution_count": 24,
   "outputs": [
    {
     "name": "stdout",
     "text": [
      "Runtime Default SVM fitting and testing:  (0.0, 0.144629) \n\nSVC(C=1, cache_size=200, class_weight=None, coef0=0.0,\n    decision_function_shape='ovr', degree=3, gamma='scale', kernel='rbf',\n    max_iter=-1, probability=False, random_state=None, shrinking=True,\n    tol=0.001, verbose=False) \n\n\n"
     ],
     "output_type": "stream"
    },
    {
     "data": {
      "text/plain": "  Kernel C value  Training set accuracy  CV set accuracy\n0    rbf       1               0.776957         0.803097",
      "text/html": "<div>\n<style scoped>\n    .dataframe tbody tr th:only-of-type {\n        vertical-align: middle;\n    }\n\n    .dataframe tbody tr th {\n        vertical-align: top;\n    }\n\n    .dataframe thead th {\n        text-align: right;\n    }\n</style>\n<table border=\"1\" class=\"dataframe\">\n  <thead>\n    <tr style=\"text-align: right;\">\n      <th></th>\n      <th>Kernel</th>\n      <th>C value</th>\n      <th>Training set accuracy</th>\n      <th>CV set accuracy</th>\n    </tr>\n  </thead>\n  <tbody>\n    <tr>\n      <th>0</th>\n      <td>rbf</td>\n      <td>1</td>\n      <td>0.776957</td>\n      <td>0.803097</td>\n    </tr>\n  </tbody>\n</table>\n</div>"
     },
     "metadata": {},
     "output_type": "execute_result",
     "execution_count": 24
    }
   ],
   "source": [
    "# b)  Classify categorical variable \"sigdz\" using default SVC SVM\n",
    "words_then = datetime.datetime.now()\n",
    "c_value1 = 1\n",
    "kernel1 = \"rbf\"\n",
    "clf1 = svm.SVC(kernel=kernel1, gamma='scale', C=c_value1)      # using default parameters, written down for illustrative purposes\n",
    "clf1.fit(X_train, y_train)\n",
    "predictions_train1 = pd.Series(clf1.predict(X_train).T)\n",
    "predictions_cv1 = pd.Series(clf1.predict(X_cv_set).T)\n",
    "confusion_matrix = getConfusionMatrix(predictions_cv1, y_cv_set)\n",
    "accuracy_train1 = computeAccuracy(predictions_train1, y_train)\n",
    "accuracy_cv1 = computeAccuracy(predictions_cv1, y_cv_set)\n",
    "\n",
    "data_default_svm = pd.DataFrame(columns=[\"Kernel\", \"C value\", \"Training set accuracy\", \"CV set accuracy\"])\n",
    "data_default_svm.loc[0] = [kernel1, c_value1, accuracy_train1, accuracy_cv1]\n",
    "\n",
    "words_now = datetime.datetime.now()\n",
    "print(\"Runtime Default SVM fitting and testing: \", divmod((words_now - words_then).total_seconds(), 60), \"\\n\")\n",
    "print(clf1, \"\\n\\n\")\n",
    "\n",
    "data_default_svm"
   ],
   "metadata": {
    "collapsed": false,
    "pycharm": {
     "name": "#%%\n",
     "is_executing": false
    }
   }
  },
  {
   "cell_type": "markdown",
   "source": [
    "__Confusion Matrix:__"
   ],
   "metadata": {
    "collapsed": false,
    "pycharm": {
     "name": "#%% md\n"
    }
   }
  },
  {
   "cell_type": "code",
   "execution_count": 25,
   "outputs": [
    {
     "data": {
      "text/plain": "Actual     0.0  1.0\nPredicted          \n0.0         77   24\n1.0         65  286",
      "text/html": "<div>\n<style scoped>\n    .dataframe tbody tr th:only-of-type {\n        vertical-align: middle;\n    }\n\n    .dataframe tbody tr th {\n        vertical-align: top;\n    }\n\n    .dataframe thead th {\n        text-align: right;\n    }\n</style>\n<table border=\"1\" class=\"dataframe\">\n  <thead>\n    <tr style=\"text-align: right;\">\n      <th>Actual</th>\n      <th>0.0</th>\n      <th>1.0</th>\n    </tr>\n    <tr>\n      <th>Predicted</th>\n      <th></th>\n      <th></th>\n    </tr>\n  </thead>\n  <tbody>\n    <tr>\n      <th>0.0</th>\n      <td>77</td>\n      <td>24</td>\n    </tr>\n    <tr>\n      <th>1.0</th>\n      <td>65</td>\n      <td>286</td>\n    </tr>\n  </tbody>\n</table>\n</div>"
     },
     "metadata": {},
     "output_type": "execute_result",
     "execution_count": 25
    }
   ],
   "source": [
    "confusion_matrix\n"
   ],
   "metadata": {
    "collapsed": false,
    "pycharm": {
     "name": "#%%\n",
     "is_executing": false
    }
   }
  },
  {
   "cell_type": "markdown",
   "source": [
    "## Parameter and kernel tuning"
   ],
   "metadata": {
    "collapsed": false
   }
  },
  {
   "cell_type": "code",
   "execution_count": 26,
   "outputs": [
    {
     "name": "stdout",
     "text": [
      "\n\nRuntime parameter and kernel testing:  (0.0, 4.398223) \n\n"
     ],
     "output_type": "stream"
    },
    {
     "data": {
      "text/plain": "     Kernel  C value  Training set accuracy  CV set accuracy\n0       rbf    0.001               0.659527         0.685841\n1       rbf    0.010               0.770310         0.798673\n2       rbf    0.100               0.770310         0.796460\n3       rbf    1.000               0.776957         0.803097\n4       rbf   10.000               0.779911         0.818584\n5       rbf  100.000               0.783604         0.820796\n6      poly    0.001               0.767356         0.796460\n7      poly    0.010               0.770310         0.796460\n8      poly    0.100               0.770310         0.796460\n9      poly    1.000               0.771787         0.796460\n10     poly   10.000               0.771787         0.796460\n11     poly  100.000               0.771787         0.796460\n12   linear    0.001               0.659527         0.685841\n13   linear    0.010               0.661004         0.685841\n14   linear    0.100               0.770310         0.796460\n15   linear    1.000               0.770310         0.796460\n16   linear   10.000               0.770310         0.796460\n17   linear  100.000               0.770310         0.796460\n18  sigmoid    0.001               0.659527         0.685841\n19  sigmoid    0.010               0.659527         0.685841\n20  sigmoid    0.100               0.737075         0.747788\n21  sigmoid    1.000               0.723043         0.761062\n22  sigmoid   10.000               0.677253         0.732301\n23  sigmoid  100.000               0.676514         0.732301",
      "text/html": "<div>\n<style scoped>\n    .dataframe tbody tr th:only-of-type {\n        vertical-align: middle;\n    }\n\n    .dataframe tbody tr th {\n        vertical-align: top;\n    }\n\n    .dataframe thead th {\n        text-align: right;\n    }\n</style>\n<table border=\"1\" class=\"dataframe\">\n  <thead>\n    <tr style=\"text-align: right;\">\n      <th></th>\n      <th>Kernel</th>\n      <th>C value</th>\n      <th>Training set accuracy</th>\n      <th>CV set accuracy</th>\n    </tr>\n  </thead>\n  <tbody>\n    <tr>\n      <th>0</th>\n      <td>rbf</td>\n      <td>0.001</td>\n      <td>0.659527</td>\n      <td>0.685841</td>\n    </tr>\n    <tr>\n      <th>1</th>\n      <td>rbf</td>\n      <td>0.010</td>\n      <td>0.770310</td>\n      <td>0.798673</td>\n    </tr>\n    <tr>\n      <th>2</th>\n      <td>rbf</td>\n      <td>0.100</td>\n      <td>0.770310</td>\n      <td>0.796460</td>\n    </tr>\n    <tr>\n      <th>3</th>\n      <td>rbf</td>\n      <td>1.000</td>\n      <td>0.776957</td>\n      <td>0.803097</td>\n    </tr>\n    <tr>\n      <th>4</th>\n      <td>rbf</td>\n      <td>10.000</td>\n      <td>0.779911</td>\n      <td>0.818584</td>\n    </tr>\n    <tr>\n      <th>5</th>\n      <td>rbf</td>\n      <td>100.000</td>\n      <td>0.783604</td>\n      <td>0.820796</td>\n    </tr>\n    <tr>\n      <th>6</th>\n      <td>poly</td>\n      <td>0.001</td>\n      <td>0.767356</td>\n      <td>0.796460</td>\n    </tr>\n    <tr>\n      <th>7</th>\n      <td>poly</td>\n      <td>0.010</td>\n      <td>0.770310</td>\n      <td>0.796460</td>\n    </tr>\n    <tr>\n      <th>8</th>\n      <td>poly</td>\n      <td>0.100</td>\n      <td>0.770310</td>\n      <td>0.796460</td>\n    </tr>\n    <tr>\n      <th>9</th>\n      <td>poly</td>\n      <td>1.000</td>\n      <td>0.771787</td>\n      <td>0.796460</td>\n    </tr>\n    <tr>\n      <th>10</th>\n      <td>poly</td>\n      <td>10.000</td>\n      <td>0.771787</td>\n      <td>0.796460</td>\n    </tr>\n    <tr>\n      <th>11</th>\n      <td>poly</td>\n      <td>100.000</td>\n      <td>0.771787</td>\n      <td>0.796460</td>\n    </tr>\n    <tr>\n      <th>12</th>\n      <td>linear</td>\n      <td>0.001</td>\n      <td>0.659527</td>\n      <td>0.685841</td>\n    </tr>\n    <tr>\n      <th>13</th>\n      <td>linear</td>\n      <td>0.010</td>\n      <td>0.661004</td>\n      <td>0.685841</td>\n    </tr>\n    <tr>\n      <th>14</th>\n      <td>linear</td>\n      <td>0.100</td>\n      <td>0.770310</td>\n      <td>0.796460</td>\n    </tr>\n    <tr>\n      <th>15</th>\n      <td>linear</td>\n      <td>1.000</td>\n      <td>0.770310</td>\n      <td>0.796460</td>\n    </tr>\n    <tr>\n      <th>16</th>\n      <td>linear</td>\n      <td>10.000</td>\n      <td>0.770310</td>\n      <td>0.796460</td>\n    </tr>\n    <tr>\n      <th>17</th>\n      <td>linear</td>\n      <td>100.000</td>\n      <td>0.770310</td>\n      <td>0.796460</td>\n    </tr>\n    <tr>\n      <th>18</th>\n      <td>sigmoid</td>\n      <td>0.001</td>\n      <td>0.659527</td>\n      <td>0.685841</td>\n    </tr>\n    <tr>\n      <th>19</th>\n      <td>sigmoid</td>\n      <td>0.010</td>\n      <td>0.659527</td>\n      <td>0.685841</td>\n    </tr>\n    <tr>\n      <th>20</th>\n      <td>sigmoid</td>\n      <td>0.100</td>\n      <td>0.737075</td>\n      <td>0.747788</td>\n    </tr>\n    <tr>\n      <th>21</th>\n      <td>sigmoid</td>\n      <td>1.000</td>\n      <td>0.723043</td>\n      <td>0.761062</td>\n    </tr>\n    <tr>\n      <th>22</th>\n      <td>sigmoid</td>\n      <td>10.000</td>\n      <td>0.677253</td>\n      <td>0.732301</td>\n    </tr>\n    <tr>\n      <th>23</th>\n      <td>sigmoid</td>\n      <td>100.000</td>\n      <td>0.676514</td>\n      <td>0.732301</td>\n    </tr>\n  </tbody>\n</table>\n</div>"
     },
     "metadata": {},
     "output_type": "execute_result",
     "execution_count": 26
    }
   ],
   "source": [
    "# c)  Evaluate different values for C and different nuclei to find better performing classifiers\n",
    "svm_values = pd.DataFrame(columns=[\"Kernel\", \"C value\", \"Training set accuracy\", \"CV set accuracy\"])\n",
    "\n",
    "i = 0\n",
    "for kernel in [\"rbf\", \"poly\", \"linear\", \"sigmoid\"]:\n",
    "    for c_value in np.logspace(-3, 2, 6):\n",
    "        clf = svm.SVC(kernel=kernel, C=c_value, gamma=\"scale\", cache_size=500)\n",
    "        clf.fit(X_train, y_train)\n",
    "        predictions_train = pd.Series(clf.predict(X_train).T)\n",
    "        predictions_cv = pd.Series(clf.predict(X_cv_set).T)\n",
    "        accuracy_train = computeAccuracy(predictions_train, y_train)\n",
    "        accuracy_cv = computeAccuracy(predictions_cv, y_cv_set)\n",
    "\n",
    "        svm_values.loc[i] = [kernel, c_value, accuracy_train, accuracy_cv]\n",
    "        i += 1\n",
    "\n",
    "time_now = datetime.datetime.now()\n",
    "print(\"\\n\\nRuntime parameter and kernel testing: \", divmod((time_now - words_now).total_seconds(), 60), \"\\n\")\n",
    "\n",
    "svm_values"
   ],
   "metadata": {
    "collapsed": false,
    "pycharm": {
     "name": "#%%\n",
     "is_executing": false
    }
   }
  },
  {
   "cell_type": "markdown",
   "source": [
    "#### Best performing SVM configuration:\n",
    "(on cross-validation set)"
   ],
   "metadata": {
    "collapsed": false,
    "pycharm": {
     "name": "#%% md\n"
    }
   }
  },
  {
   "cell_type": "code",
   "execution_count": 27,
   "outputs": [
    {
     "data": {
      "text/plain": "  Kernel  C value  Training set accuracy  CV set accuracy\n5    rbf    100.0               0.783604         0.820796",
      "text/html": "<div>\n<style scoped>\n    .dataframe tbody tr th:only-of-type {\n        vertical-align: middle;\n    }\n\n    .dataframe tbody tr th {\n        vertical-align: top;\n    }\n\n    .dataframe thead th {\n        text-align: right;\n    }\n</style>\n<table border=\"1\" class=\"dataframe\">\n  <thead>\n    <tr style=\"text-align: right;\">\n      <th></th>\n      <th>Kernel</th>\n      <th>C value</th>\n      <th>Training set accuracy</th>\n      <th>CV set accuracy</th>\n    </tr>\n  </thead>\n  <tbody>\n    <tr>\n      <th>5</th>\n      <td>rbf</td>\n      <td>100.0</td>\n      <td>0.783604</td>\n      <td>0.820796</td>\n    </tr>\n  </tbody>\n</table>\n</div>"
     },
     "metadata": {},
     "output_type": "execute_result",
     "execution_count": 27
    }
   ],
   "source": [
    "# Choose SVM with highest accuracy after hyperparameter tuning\n",
    "winner = svm_values.sort_values(by=\"CV set accuracy\", ascending=False).head(1)\n",
    "winner"
   ],
   "metadata": {
    "collapsed": false,
    "pycharm": {
     "name": "#%%\n",
     "is_executing": false
    }
   }
  },
  {
   "cell_type": "markdown",
   "source": [
    "__Performance on test set:__"
   ],
   "metadata": {
    "collapsed": false,
    "pycharm": {
     "name": "#%% md\n"
    }
   }
  },
  {
   "cell_type": "code",
   "execution_count": 28,
   "outputs": [
    {
     "data": {
      "text/plain": "  Kernel  C value  Training set accuracy  CV set accuracy  Test set accuracy\n5    rbf    100.0               0.783604         0.820796           0.774336",
      "text/html": "<div>\n<style scoped>\n    .dataframe tbody tr th:only-of-type {\n        vertical-align: middle;\n    }\n\n    .dataframe tbody tr th {\n        vertical-align: top;\n    }\n\n    .dataframe thead th {\n        text-align: right;\n    }\n</style>\n<table border=\"1\" class=\"dataframe\">\n  <thead>\n    <tr style=\"text-align: right;\">\n      <th></th>\n      <th>Kernel</th>\n      <th>C value</th>\n      <th>Training set accuracy</th>\n      <th>CV set accuracy</th>\n      <th>Test set accuracy</th>\n    </tr>\n  </thead>\n  <tbody>\n    <tr>\n      <th>5</th>\n      <td>rbf</td>\n      <td>100.0</td>\n      <td>0.783604</td>\n      <td>0.820796</td>\n      <td>0.774336</td>\n    </tr>\n  </tbody>\n</table>\n</div>"
     },
     "metadata": {},
     "output_type": "execute_result",
     "execution_count": 28
    }
   ],
   "source": [
    "winner_svm = svm.SVC(kernel=winner.iat[0, 0], C=winner.iat[0, 1], gamma=\"scale\", cache_size=500)\n",
    "winner_svm.fit(X_train, y_train)\n",
    "winner_test_predictions = pd.Series(winner_svm.predict(X_test).T)\n",
    "winner_test_accuracy = computeAccuracy(winner_test_predictions, y_test)\n",
    "\n",
    "winner[\"Test set accuracy\"] = winner_test_accuracy\n",
    "\n",
    "winner"
   ],
   "metadata": {
    "collapsed": false,
    "pycharm": {
     "name": "#%%\n",
     "is_executing": false
    }
   }
  }
 ],
 "metadata": {
  "kernelspec": {
   "display_name": "Python 3",
   "language": "python",
   "name": "python3"
  },
  "language_info": {
   "codemirror_mode": {
    "name": "ipython",
    "version": 3
   },
   "file_extension": ".py",
   "mimetype": "text/x-python",
   "name": "python",
   "nbconvert_exporter": "python",
   "pygments_lexer": "ipython3",
   "version": "3.7.3"
  },
  "pycharm": {
   "stem_cell": {
    "cell_type": "raw",
    "source": [],
    "metadata": {
     "collapsed": false
    }
   }
  }
 },
 "nbformat": 4,
 "nbformat_minor": 2
}