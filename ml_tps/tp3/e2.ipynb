{
 "cells": [
  {
   "cell_type": "markdown",
   "source": [
    "# TP3 - Ejercicio 2\n",
    "### Enunciado\n",
    "a)  Dividir aleatoriamente el conjunto de datos en dos conjuntos, uno de entrenamiento y uno de prueba.\n",
    "\n",
    "b)  Clasificar la variable categórica _sigdz_ que indica si el paciente posee o no una enfermedad coronaria, utilizando el método SVM. Calcular la matriz de confusión.\n",
    "\n",
    "c)  Proponer  (y  tambien  realizar)  una  secuencia  de  pasos que  permita  encontrar  una clasificación  mejor  que  la  anterior,  evaluando  diferentes  valores  de C y  diferentes núcleos."
   ],
   "metadata": {
    "collapsed": false
   }
  },
  {
   "cell_type": "code",
   "execution_count": 27,
   "outputs": [
    {
     "name": "stdout",
     "text": [
      "Import success\n"
     ],
     "output_type": "stream"
    }
   ],
   "source": [
    "import datetime\n",
    "\n",
    "from ml_tps.utils.dataframe_utils import divide_in_training_test_datasets\n",
    "import pandas as pd\n",
    "import os\n",
    "from sklearn import svm\n",
    "from sklearn.preprocessing import MinMaxScaler\n",
    "from ml_tps.utils.evaluation_utils import getConfusionMatrix, computeAccuracy\n",
    "\n",
    "print(\"Import success\")"
   ],
   "metadata": {
    "collapsed": false,
    "pycharm": {
     "name": "#%%\n",
     "is_executing": false
    }
   }
  },
  {
   "cell_type": "code",
   "execution_count": 36,
   "metadata": {
    "pycharm": {
     "is_executing": false,
     "name": "#%%\n"
    }
   },
   "outputs": [
    {
     "name": "stdout",
     "text": [
      "Variable setting success\n"
     ],
     "output_type": "stream"
    }
   ],
   "source": [
    "dir_path = os.path.dirname(os.path.realpath(\"e2.ipynb\"))\n",
    "DEFAULT_FILEPATH = f\"{dir_path}/../tp3/data/acath.xls\"\n",
    "DEFAULT_OBJECTIVE = \"sigdz\"\n",
    "DEFAULT_TRAIN_PCTG = 0.6\n",
    "\n",
    "print(\"Variable setting success\")"
   ]
  },
  {
   "cell_type": "markdown",
   "source": [
    "## Data set info"
   ],
   "metadata": {
    "collapsed": false,
    "pycharm": {
     "name": "#%% md\n"
    }
   }
  },
  {
   "cell_type": "code",
   "execution_count": 29,
   "outputs": [
    {
     "name": "stdout",
     "text": [
      "*** No CODEPAGE record, no encoding_override: will use 'ascii'\n",
      "Train size: (1354, 6)\nTest size: (904, 6)\n"
     ],
     "output_type": "stream"
    }
   ],
   "source": [
    "# a)  Divide dataset randomly into training and evaluation set\n",
    "dataset = pd.read_excel(DEFAULT_FILEPATH)\n",
    "dataset = dataset.dropna()      # TODO maybe deal with NaN otherwise?\n",
    "\n",
    "datasetX = dataset.loc[:, dataset.columns != DEFAULT_OBJECTIVE]\n",
    "scaler = MinMaxScaler()\n",
    "datasetX_scaled = pd.DataFrame(scaler.fit_transform(datasetX), index=datasetX.index, columns=datasetX.columns)\n",
    "dataset_scaled = pd.concat([datasetX_scaled, dataset[DEFAULT_OBJECTIVE]], axis=1)\n",
    "\n",
    "train, test = divide_in_training_test_datasets(dataset_scaled, train_pctg=DEFAULT_TRAIN_PCTG)\n",
    "\n",
    "X_train = train.loc[:, train.columns != DEFAULT_OBJECTIVE]\n",
    "y_train = train[DEFAULT_OBJECTIVE]\n",
    "\n",
    "X_test = test.loc[:, test.columns != DEFAULT_OBJECTIVE]\n",
    "y_test = test[DEFAULT_OBJECTIVE]\n",
    "\n",
    "print(\"Train size:\", train.shape)\n",
    "print(\"Test size:\", test.shape)"
   ],
   "metadata": {
    "collapsed": false,
    "pycharm": {
     "name": "#%%\n",
     "is_executing": false
    }
   }
  },
  {
   "cell_type": "markdown",
   "source": [
    "## SVM using RBF (radial basis function) kernel (default)"
   ],
   "metadata": {
    "collapsed": false,
    "pycharm": {
     "name": "#%% md\n"
    }
   }
  },
  {
   "cell_type": "code",
   "execution_count": 35,
   "outputs": [
    {
     "name": "stdout",
     "text": [
      "Training runtime:  (0.0, 0.161669)\nSVC(C=1, cache_size=200, class_weight=None, coef0=0.0,\n    decision_function_shape='ovr', degree=3, gamma='auto', kernel='rbf',\n    max_iter=-1, probability=False, random_state=None, shrinking=True,\n    tol=0.001, verbose=False)\n\nConfusion Matrix:\n Actual     0.0  1.0\nPredicted          \n0.0        173   58\n1.0        129  544\n\nAccuracy: 0.793141592920354\n"
     ],
     "output_type": "stream"
    }
   ],
   "source": [
    "# b)  Classify categorical variable \"sigdz\" using default SVC SVM\n",
    "words_then = datetime.datetime.now()\n",
    "classifiers = list()\n",
    "accuracies = list()\n",
    "classifiers.append(svm.SVC(kernel='rbf', gamma='auto', C=1))        # using default parameters, written down for illustrative purposes\n",
    "classifiers[0].fit(X_train, y_train)\n",
    "predictions_test = pd.Series(classifiers[0].predict(X_test).T)\n",
    "confusion_matrix = getConfusionMatrix(predictions_test, y_test)\n",
    "accuracies.append(computeAccuracy(predictions_test, y_test))\n",
    "\n",
    "words_now = datetime.datetime.now()\n",
    "print(\"Training runtime: \", divmod((words_now - words_then).total_seconds(), 60))\n",
    "print(classifiers[0])\n",
    "print(\"\\nConfusion Matrix:\\n\", confusion_matrix)\n",
    "print(\"\\nAccuracy:\", accuracies[0])"
   ],
   "metadata": {
    "collapsed": false,
    "pycharm": {
     "name": "#%%\n",
     "is_executing": false
    }
   }
  },
  {
   "cell_type": "markdown",
   "source": [
    "## Parameter and kernel tuning"
   ],
   "metadata": {
    "collapsed": false
   }
  },
  {
   "cell_type": "code",
   "execution_count": 26,
   "outputs": [],
   "source": [
    "# c)  Evaluate different values for C and different nuclei to find better performing classifiers\n",
    "clf = svm.SVC(kernel='poly', degree=3, C=1, cache_size=500)\n",
    "clf.fit(X_train, y_train)\n",
    "predictions_test2 = pd.Series(clf.predict(X_test).T)\n",
    "confusion_matrix2 = getConfusionMatrix(predictions_test2, y_test)\n",
    "accuracies.append(computeAccuracy(predictions_test2, y_test))\n",
    "\n",
    "time_now = datetime.datetime.now()\n",
    "print(\"====== SVM using poly kernel ======\")\n",
    "print(clf)\n",
    "print(\"Runtime SVM2: \", divmod((time_now - words_now).total_seconds(), 60), \"\\n\")\n",
    "print(\"Confusion Matrix:\\n\", confusion_matrix2)\n",
    "print(\"\\nAccuracy:\", accuracies[1])\n",
    "\n"
   ],
   "metadata": {
    "collapsed": false,
    "pycharm": {
     "name": "#%%\n",
     "is_executing": false
    }
   }
  }
 ],
 "metadata": {
  "kernelspec": {
   "display_name": "Python 3",
   "language": "python",
   "name": "python3"
  },
  "language_info": {
   "codemirror_mode": {
    "name": "ipython",
    "version": 3
   },
   "file_extension": ".py",
   "mimetype": "text/x-python",
   "name": "python",
   "nbconvert_exporter": "python",
   "pygments_lexer": "ipython3",
   "version": "3.7.3"
  },
  "pycharm": {
   "stem_cell": {
    "cell_type": "raw",
    "source": [],
    "metadata": {
     "collapsed": false
    }
   }
  }
 },
 "nbformat": 4,
 "nbformat_minor": 2
}