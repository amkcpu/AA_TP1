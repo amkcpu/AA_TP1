{
 "cells": [
  {
   "cell_type": "markdown",
   "source": [
    "# TP3 - Ejercicio 2\n",
    "### Enunciado\n",
    "a)  Dividir aleatoriamente el conjunto de datos en dos conjuntos, uno de entrenamiento y uno de prueba.\n",
    "\n",
    "b)  Clasificar la variable categórica _sigdz_ que indica si el paciente posee o no una enfermedad coronaria, utilizando el método SVM. Calcular la matriz de confusión.\n",
    "\n",
    "c)  Proponer  (y  tambien  realizar)  una  secuencia  de  pasos que  permita  encontrar  una clasificación  mejor  que  la  anterior,  evaluando  diferentes  valores  de C y  diferentes núcleos."
   ],
   "metadata": {
    "collapsed": false
   }
  },
  {
   "cell_type": "code",
   "execution_count": 33,
   "outputs": [],
   "source": [
    "from IPython.display import display\n",
    "import datetime\n",
    "import pandas as pd\n",
    "import numpy as np\n",
    "import os\n",
    "from sklearn import svm\n",
    "from ml_tps.utils.evaluation import getConfusionMatrix, computeAccuracy\n",
    "from ml_tps.utils.data_processing import divide_in_training_test_datasets, scale_dataset, separate_dataset_objective_data\n",
    "\n",
    "print(\"Module and package import success\")"
   ],
   "metadata": {
    "collapsed": false,
    "pycharm": {
     "name": "#%%\n",
     "is_executing": false
    }
   }
  },
  {
   "cell_type": "code",
   "execution_count": 34,
   "metadata": {
    "pycharm": {
     "is_executing": false,
     "name": "#%%\n"
    }
   },
   "outputs": [],
   "source": [
    "dir_path = os.path.dirname(os.path.realpath(\"e2.ipynb\"))\n",
    "DEFAULT_FILEPATH = f\"{dir_path}/../tp3/data/acath.xls\"\n",
    "DEFAULT_OBJECTIVE = \"sigdz\"\n",
    "DEFAULT_TRAIN_PCTG = 0.6\n",
    "DEFAULT_CV_PCTG = 0.2\n",
    "\n",
    "print(\"Variable setting and data import success\")"
   ]
  },
  {
   "cell_type": "markdown",
   "source": [
    "## Data set info"
   ],
   "metadata": {
    "collapsed": false,
    "pycharm": {
     "name": "#%% md\n"
    }
   }
  },
  {
   "cell_type": "code",
   "execution_count": 35,
   "outputs": [],
   "source": [
    "# a)  Divide dataset randomly into training and evaluation set\n",
    "dataset = pd.read_excel(DEFAULT_FILEPATH)\n",
    "dataset = dataset.dropna()      # TODO maybe deal with NaN otherwise?\n",
    "dataset = dataset.drop(\"tvdlm\", axis=1)   # Drop tvdlm columns which does not add information\n",
    "dataset_scaled = scale_dataset(dataset, objective=DEFAULT_OBJECTIVE, scaling_type=\"minmax\")\n",
    "\n",
    "train, testing_sets = divide_in_training_test_datasets(dataset_scaled, train_pctg=DEFAULT_TRAIN_PCTG)\n",
    "cv_set, test = divide_in_training_test_datasets(testing_sets, train_pctg=DEFAULT_CV_PCTG/(1-DEFAULT_TRAIN_PCTG))\n",
    "\n",
    "X_train, y_train = separate_dataset_objective_data(train, DEFAULT_OBJECTIVE)\n",
    "X_cv_set, y_cv_set = separate_dataset_objective_data(cv_set, DEFAULT_OBJECTIVE)\n",
    "X_test, y_test = separate_dataset_objective_data(test, DEFAULT_OBJECTIVE)\n",
    "\n",
    "data_info = pd.Series({\"Data set dimensions (ignoring NaN)\": dataset.shape,\n",
    "                      \"Training set dimensions\": train.shape,\n",
    "                      \"CV set dimensions\": cv_set.shape,\n",
    "                      \"Test set dimensions\": test.shape,\n",
    "                      \"% of data set used for training\": str(int(DEFAULT_TRAIN_PCTG*100)) + \"%\",\n",
    "                      \"% of data set used for cross-validation\": str(int(DEFAULT_CV_PCTG*100)) + \"%\",\n",
    "                      \"% of data set used for testing\": str(int((1-DEFAULT_TRAIN_PCTG-DEFAULT_CV_PCTG)*100)) + \"%\",\n",
    "                      \"Classification objective\": DEFAULT_OBJECTIVE})\n",
    "\n",
    "pd.DataFrame(data_info, columns=[\"acath.xls\"])"
   ],
   "metadata": {
    "collapsed": false,
    "pycharm": {
     "name": "#%%\n",
     "is_executing": false
    }
   }
  },
  {
   "cell_type": "markdown",
   "source": [
    "## Default SVM"
   ],
   "metadata": {
    "collapsed": false,
    "pycharm": {
     "name": "#%% md\n"
    }
   }
  },
  {
   "cell_type": "code",
   "execution_count": 36,
   "outputs": [],
   "source": [
    "# b)  Classify categorical variable \"sigdz\" using default SVC SVM\n",
    "words_then = datetime.datetime.now()\n",
    "c_value1 = 1\n",
    "kernel1 = \"rbf\"\n",
    "clf1 = svm.SVC(kernel=kernel1, gamma='scale', C=c_value1)      # using default parameters, written down for illustrative purposes\n",
    "clf1.fit(X_train, y_train)\n",
    "predictions_train1 = pd.Series(clf1.predict(X_train).T)\n",
    "predictions_cv1 = pd.Series(clf1.predict(X_cv_set).T)\n",
    "confusion_matrix = getConfusionMatrix(predictions_cv1, y_cv_set)\n",
    "accuracy_train1 = computeAccuracy(predictions_train1, y_train)\n",
    "accuracy_cv1 = computeAccuracy(predictions_cv1, y_cv_set)\n",
    "\n",
    "data_default_svm = pd.DataFrame(columns=[\"Kernel\", \"C value\", \"Training set accuracy\", \"CV set accuracy\"])\n",
    "data_default_svm.loc[0] = [kernel1, c_value1, accuracy_train1, accuracy_cv1]\n",
    "\n",
    "words_now = datetime.datetime.now()\n",
    "print(\"Runtime Default SVM fitting and testing: \", divmod((words_now - words_then).total_seconds(), 60), \"\\n\")\n",
    "print(clf1, \"\\n\\n\")\n",
    "\n",
    "data_default_svm"
   ],
   "metadata": {
    "collapsed": false,
    "pycharm": {
     "name": "#%%\n",
     "is_executing": false
    }
   }
  },
  {
   "cell_type": "markdown",
   "source": [
    "__Confusion Matrix:__"
   ],
   "metadata": {
    "collapsed": false,
    "pycharm": {
     "name": "#%% md\n"
    }
   }
  },
  {
   "cell_type": "code",
   "execution_count": 37,
   "outputs": [],
   "source": [
    "confusion_matrix\n"
   ],
   "metadata": {
    "collapsed": false,
    "pycharm": {
     "name": "#%%\n",
     "is_executing": false
    }
   }
  },
  {
   "cell_type": "markdown",
   "source": [
    "## Parameter and kernel tuning"
   ],
   "metadata": {
    "collapsed": false
   }
  },
  {
   "cell_type": "code",
   "execution_count": 38,
   "outputs": [],
   "source": [
    "# c)  Evaluate different values for C and different nuclei to find better performing classifiers\n",
    "svm_values = pd.DataFrame(columns=[\"Kernel\", \"C value\", \"Training set accuracy\", \"CV set accuracy\"])\n",
    "\n",
    "i = 0\n",
    "for kernel in [\"rbf\", \"poly\", \"linear\", \"sigmoid\"]:\n",
    "    for c_value in np.logspace(-3, 2, 6):\n",
    "        clf = svm.SVC(kernel=kernel, C=c_value, gamma=\"scale\", cache_size=500)\n",
    "        clf.fit(X_train, y_train)\n",
    "        predictions_train = pd.Series(clf.predict(X_train).T)\n",
    "        predictions_cv = pd.Series(clf.predict(X_cv_set).T)\n",
    "        accuracy_train = computeAccuracy(predictions_train, y_train)\n",
    "        accuracy_cv = computeAccuracy(predictions_cv, y_cv_set)\n",
    "\n",
    "        svm_values.loc[i] = [kernel, c_value, accuracy_train, accuracy_cv]\n",
    "        i += 1\n",
    "\n",
    "time_now = datetime.datetime.now()\n",
    "print(\"\\n\\nRuntime parameter and kernel testing: \", divmod((time_now - words_now).total_seconds(), 60), \"\\n\")\n",
    "\n",
    "svm_values"
   ],
   "metadata": {
    "collapsed": false,
    "pycharm": {
     "name": "#%%\n",
     "is_executing": false
    }
   }
  },
  {
   "cell_type": "markdown",
   "source": [
    "#### Best performing SVM configuration:\n",
    "(on cross-validation set)"
   ],
   "metadata": {
    "collapsed": false,
    "pycharm": {
     "name": "#%% md\n"
    }
   }
  },
  {
   "cell_type": "code",
   "execution_count": 39,
   "outputs": [],
   "source": [
    "# Choose SVM with highest accuracy after hyperparameter tuning\n",
    "winner = svm_values.sort_values(by=\"CV set accuracy\", ascending=False).head(1)\n",
    "winner"
   ],
   "metadata": {
    "collapsed": false,
    "pycharm": {
     "name": "#%%\n",
     "is_executing": false
    }
   }
  },
  {
   "cell_type": "markdown",
   "source": [
    "__Performance on test set:__"
   ],
   "metadata": {
    "collapsed": false,
    "pycharm": {
     "name": "#%% md\n"
    }
   }
  },
  {
   "cell_type": "code",
   "execution_count": 40,
   "outputs": [],
   "source": [
    "winner_svm = svm.SVC(kernel=winner.iat[0, 0], C=winner.iat[0, 1], gamma=\"scale\", cache_size=500)\n",
    "winner_svm.fit(X_train, y_train)\n",
    "winner_test_predictions = pd.Series(winner_svm.predict(X_test).T)\n",
    "winner_test_accuracy = computeAccuracy(winner_test_predictions, y_test)\n",
    "\n",
    "winner[\"Test set accuracy\"] = winner_test_accuracy\n",
    "\n",
    "winner"
   ],
   "metadata": {
    "collapsed": false,
    "pycharm": {
     "name": "#%%\n",
     "is_executing": false
    }
   }
  }
 ],
 "metadata": {
  "kernelspec": {
   "display_name": "Python 3",
   "language": "python",
   "name": "python3"
  },
  "language_info": {
   "codemirror_mode": {
    "name": "ipython",
    "version": 3
   },
   "file_extension": ".py",
   "mimetype": "text/x-python",
   "name": "python",
   "nbconvert_exporter": "python",
   "pygments_lexer": "ipython3",
   "version": "3.7.3"
  },
  "pycharm": {
   "stem_cell": {
    "cell_type": "raw",
    "source": [],
    "metadata": {
     "collapsed": false
    }
   }
  }
 },
 "nbformat": 4,
 "nbformat_minor": 2
}