{
 "cells": [
  {
   "cell_type": "code",
   "execution_count": 1,
   "metadata": {},
   "outputs": [
    {
     "name": "stdout",
     "output_type": "stream",
     "text": [
      "Test\n"
     ]
    }
   ],
   "source": [
    "# a)  Dividir aleatoriamente el conjunto de datos en dos conjuntos, uno de entrenamientoy uno de prueba.\n",
    "# b)  Clasificar la variable categ ́orica sigdz que indica si el paciente posee o no una enfer-medad coronaria, utilizando el m ́etodo SVM. Calcular la matriz de confusi ́on.\n",
    "# c)  Proponer  (y  tambien  realizar)  una  secuencia  de  pasos que  permita  encontrar  unaclasificaci ́on  mejor  que  la  anterior,  evaluando  diferentes  valores  deCy  diferentesn ́ucleo\n",
    "\n"
   ]
  },
  {
   "cell_type": "code",
   "execution_count": null,
   "metadata": {},
   "outputs": [],
   "source": []
  }
 ],
 "metadata": {
  "kernelspec": {
   "display_name": "Python 3",
   "language": "python",
   "name": "python3"
  },
  "language_info": {
   "codemirror_mode": {
    "name": "ipython",
    "version": 3
   },
   "file_extension": ".py",
   "mimetype": "text/x-python",
   "name": "python",
   "nbconvert_exporter": "python",
   "pygments_lexer": "ipython3",
   "version": "3.7.3"
  }
 },
 "nbformat": 4,
 "nbformat_minor": 2
}
