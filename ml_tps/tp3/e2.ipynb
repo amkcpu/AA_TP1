{
 "cells": [
  {
   "cell_type": "markdown",
   "source": [
    "# TP3 - Ejercicio 2\n",
    "### Enunciado\n",
    "a)  Dividir aleatoriamente el conjunto de datos en dos conjuntos, uno de entrenamiento y uno de prueba.\n",
    "\n",
    "b)  Clasificar la variable categórica _sigdz_ que indica si el paciente posee o no una enfermedad coronaria, utilizando el método SVM. Calcular la matriz de confusión.\n",
    "\n",
    "c)  Proponer  (y  tambien  realizar)  una  secuencia  de  pasos que  permita  encontrar  una clasificación  mejor  que  la  anterior,  evaluando  diferentes  valores  de C y  diferentes núcleos."
   ],
   "metadata": {
    "collapsed": false
   }
  },
  {
   "cell_type": "code",
   "execution_count": 29,
   "outputs": [
    {
     "name": "stdout",
     "text": [
      "Module and package import success\n"
     ],
     "output_type": "stream"
    }
   ],
   "source": [
    "from IPython.display import display\n",
    "import datetime\n",
    "import pandas as pd\n",
    "import numpy as np\n",
    "import os\n",
    "from sklearn import svm\n",
    "from ml_tps.utils.evaluation_utils import getConfusionMatrix, computeAccuracy\n",
    "from ml_tps.utils.dataframe_utils import divide_in_training_test_datasets, scale_dataset, seperateDatasetObjectiveData\n",
    "\n",
    "print(\"Module and package import success\")"
   ],
   "metadata": {
    "collapsed": false,
    "pycharm": {
     "name": "#%%\n",
     "is_executing": false
    }
   }
  },
  {
   "cell_type": "code",
   "execution_count": 30,
   "metadata": {
    "pycharm": {
     "is_executing": false,
     "name": "#%%\n"
    }
   },
   "outputs": [
    {
     "name": "stdout",
     "text": [
      "Variable setting and data import success\n"
     ],
     "output_type": "stream"
    }
   ],
   "source": [
    "dir_path = os.path.dirname(os.path.realpath(\"e2.ipynb\"))\n",
    "DEFAULT_FILEPATH = f\"{dir_path}/../tp3/data/acath.xls\"\n",
    "DEFAULT_OBJECTIVE = \"sigdz\"\n",
    "DEFAULT_TRAIN_PCTG = 0.6\n",
    "\n",
    "print(\"Variable setting and data import success\")"
   ]
  },
  {
   "cell_type": "markdown",
   "source": [
    "## Data set info"
   ],
   "metadata": {
    "collapsed": false,
    "pycharm": {
     "name": "#%% md\n"
    }
   }
  },
  {
   "cell_type": "code",
   "execution_count": 34,
   "outputs": [
    {
     "name": "stdout",
     "text": [
      "*** No CODEPAGE record, no encoding_override: will use 'ascii'\n"
     ],
     "output_type": "stream"
    },
    {
     "data": {
      "text/plain": "Data set dimensions (ignoring NaN):           (2258, 6)\nTraining set dimensions:                      (1354, 6)\nEvaluation set dimensions:                     (904, 6)\nPercentage of data set used for training:            60\nClassification objective:                         sigdz\ndtype: object"
     },
     "metadata": {},
     "output_type": "display_data"
    }
   ],
   "source": [
    "# a)  Divide dataset randomly into training and evaluation set\n",
    "dataset = pd.read_excel(DEFAULT_FILEPATH)\n",
    "dataset = dataset.dropna()      # TODO maybe deal with NaN otherwise?\n",
    "dataset_scaled = scale_dataset(dataset, objective=DEFAULT_OBJECTIVE, ignore_objective=True, scaling_type=\"minmax\")\n",
    "\n",
    "train, test = divide_in_training_test_datasets(dataset_scaled, train_pctg=DEFAULT_TRAIN_PCTG)\n",
    "\n",
    "X_train, y_train = seperateDatasetObjectiveData(train, DEFAULT_OBJECTIVE)\n",
    "X_test, y_test = seperateDatasetObjectiveData(test, DEFAULT_OBJECTIVE)\n",
    "\n",
    "data_info = pd.Series({\"Data set dimensions (ignoring NaN): \": dataset.shape,\n",
    "                          \"Training set dimensions: \": train.shape,\n",
    "                          \"Evaluation set dimensions: \": test.shape,\n",
    "                          \"Percentage of data set used for training: \": int(DEFAULT_TRAIN_PCTG*100),\n",
    "                          \"Classification objective: \": DEFAULT_OBJECTIVE})\n",
    "\n",
    "display(data_info)"
   ],
   "metadata": {
    "collapsed": false,
    "pycharm": {
     "name": "#%%\n",
     "is_executing": false
    }
   }
  },
  {
   "cell_type": "markdown",
   "source": [
    "## Default SVM\n",
    "Using RBF (radial basis function) kernel"
   ],
   "metadata": {
    "collapsed": false,
    "pycharm": {
     "name": "#%% md\n"
    }
   }
  },
  {
   "cell_type": "code",
   "execution_count": 32,
   "outputs": [
    {
     "name": "stdout",
     "text": [
      "Training runtime:  (0.0, 0.103722)\nSVC(C=1, cache_size=200, class_weight=None, coef0=0.0,\n    decision_function_shape='ovr', degree=3, gamma='scale', kernel='rbf',\n    max_iter=-1, probability=False, random_state=None, shrinking=True,\n    tol=0.001, verbose=False)\n\nAccuracy: 0.7876106194690266 \n\nConfusion Matrix:\n"
     ],
     "output_type": "stream"
    },
    {
     "data": {
      "text/plain": "Actual     0.0  1.0\nPredicted          \n0.0        203   68\n1.0        124  509",
      "text/html": "<div>\n<style scoped>\n    .dataframe tbody tr th:only-of-type {\n        vertical-align: middle;\n    }\n\n    .dataframe tbody tr th {\n        vertical-align: top;\n    }\n\n    .dataframe thead th {\n        text-align: right;\n    }\n</style>\n<table border=\"1\" class=\"dataframe\">\n  <thead>\n    <tr style=\"text-align: right;\">\n      <th>Actual</th>\n      <th>0.0</th>\n      <th>1.0</th>\n    </tr>\n    <tr>\n      <th>Predicted</th>\n      <th></th>\n      <th></th>\n    </tr>\n  </thead>\n  <tbody>\n    <tr>\n      <th>0.0</th>\n      <td>203</td>\n      <td>68</td>\n    </tr>\n    <tr>\n      <th>1.0</th>\n      <td>124</td>\n      <td>509</td>\n    </tr>\n  </tbody>\n</table>\n</div>"
     },
     "metadata": {},
     "output_type": "execute_result",
     "execution_count": 32
    }
   ],
   "source": [
    "# b)  Classify categorical variable \"sigdz\" using default SVC SVM\n",
    "words_then = datetime.datetime.now()\n",
    "svm_values = pd.DataFrame(columns=[\"Kernel\", \"C value\", \"Accuracy\"])\n",
    "c_value1 = 1\n",
    "kernel1 = \"rbf\"\n",
    "clf1 = svm.SVC(kernel=kernel1, gamma='scale', C=c_value1)      # using default parameters, written down for illustrative purposes\n",
    "clf1.fit(X_train, y_train)\n",
    "predictions_test = pd.Series(clf1.predict(X_test).T)\n",
    "confusion_matrix = getConfusionMatrix(predictions_test, y_test)\n",
    "accuracy1 = computeAccuracy(predictions_test, y_test)\n",
    "\n",
    "svm_values.loc[0] = [kernel1, c_value1, accuracy1]\n",
    "\n",
    "words_now = datetime.datetime.now()\n",
    "print(\"Training runtime: \", divmod((words_now - words_then).total_seconds(), 60))\n",
    "print(clf1)\n",
    "print(\"\\nAccuracy:\", accuracy1, \"\\n\")\n",
    "print(\"Confusion Matrix:\")\n",
    "confusion_matrix\n"
   ],
   "metadata": {
    "collapsed": false,
    "pycharm": {
     "name": "#%%\n",
     "is_executing": false
    }
   }
  },
  {
   "cell_type": "markdown",
   "source": [
    "## Parameter and kernel tuning"
   ],
   "metadata": {
    "collapsed": false
   }
  },
  {
   "cell_type": "code",
   "execution_count": 33,
   "outputs": [
    {
     "name": "stdout",
     "text": [
      "\n\nRuntime C Parameter testing:  (0.0, 2.105568) \n\n"
     ],
     "output_type": "stream"
    },
    {
     "data": {
      "text/plain": "     Kernel C value  Accuracy\n0       rbf       1  0.787611\n1       rbf   0.001  0.638274\n2       rbf    0.01  0.773230\n3       rbf     0.1  0.775442\n4       rbf       1  0.787611\n5       rbf      10  0.792035\n6       rbf     100  0.790929\n7      poly   0.001  0.769912\n8      poly    0.01  0.775442\n9      poly     0.1  0.775442\n10     poly       1  0.775442\n11     poly      10  0.773230\n12     poly     100  0.771018\n13   linear   0.001  0.638274\n14   linear    0.01  0.638274\n15   linear     0.1  0.775442\n16   linear       1  0.775442\n17   linear      10  0.775442\n18   linear     100  0.775442\n19  sigmoid   0.001  0.638274\n20  sigmoid    0.01  0.638274\n21  sigmoid     0.1  0.731195\n22  sigmoid       1  0.710177\n23  sigmoid      10  0.695796\n24  sigmoid     100  0.694690",
      "text/html": "<div>\n<style scoped>\n    .dataframe tbody tr th:only-of-type {\n        vertical-align: middle;\n    }\n\n    .dataframe tbody tr th {\n        vertical-align: top;\n    }\n\n    .dataframe thead th {\n        text-align: right;\n    }\n</style>\n<table border=\"1\" class=\"dataframe\">\n  <thead>\n    <tr style=\"text-align: right;\">\n      <th></th>\n      <th>Kernel</th>\n      <th>C value</th>\n      <th>Accuracy</th>\n    </tr>\n  </thead>\n  <tbody>\n    <tr>\n      <th>0</th>\n      <td>rbf</td>\n      <td>1</td>\n      <td>0.787611</td>\n    </tr>\n    <tr>\n      <th>1</th>\n      <td>rbf</td>\n      <td>0.001</td>\n      <td>0.638274</td>\n    </tr>\n    <tr>\n      <th>2</th>\n      <td>rbf</td>\n      <td>0.01</td>\n      <td>0.773230</td>\n    </tr>\n    <tr>\n      <th>3</th>\n      <td>rbf</td>\n      <td>0.1</td>\n      <td>0.775442</td>\n    </tr>\n    <tr>\n      <th>4</th>\n      <td>rbf</td>\n      <td>1</td>\n      <td>0.787611</td>\n    </tr>\n    <tr>\n      <th>5</th>\n      <td>rbf</td>\n      <td>10</td>\n      <td>0.792035</td>\n    </tr>\n    <tr>\n      <th>6</th>\n      <td>rbf</td>\n      <td>100</td>\n      <td>0.790929</td>\n    </tr>\n    <tr>\n      <th>7</th>\n      <td>poly</td>\n      <td>0.001</td>\n      <td>0.769912</td>\n    </tr>\n    <tr>\n      <th>8</th>\n      <td>poly</td>\n      <td>0.01</td>\n      <td>0.775442</td>\n    </tr>\n    <tr>\n      <th>9</th>\n      <td>poly</td>\n      <td>0.1</td>\n      <td>0.775442</td>\n    </tr>\n    <tr>\n      <th>10</th>\n      <td>poly</td>\n      <td>1</td>\n      <td>0.775442</td>\n    </tr>\n    <tr>\n      <th>11</th>\n      <td>poly</td>\n      <td>10</td>\n      <td>0.773230</td>\n    </tr>\n    <tr>\n      <th>12</th>\n      <td>poly</td>\n      <td>100</td>\n      <td>0.771018</td>\n    </tr>\n    <tr>\n      <th>13</th>\n      <td>linear</td>\n      <td>0.001</td>\n      <td>0.638274</td>\n    </tr>\n    <tr>\n      <th>14</th>\n      <td>linear</td>\n      <td>0.01</td>\n      <td>0.638274</td>\n    </tr>\n    <tr>\n      <th>15</th>\n      <td>linear</td>\n      <td>0.1</td>\n      <td>0.775442</td>\n    </tr>\n    <tr>\n      <th>16</th>\n      <td>linear</td>\n      <td>1</td>\n      <td>0.775442</td>\n    </tr>\n    <tr>\n      <th>17</th>\n      <td>linear</td>\n      <td>10</td>\n      <td>0.775442</td>\n    </tr>\n    <tr>\n      <th>18</th>\n      <td>linear</td>\n      <td>100</td>\n      <td>0.775442</td>\n    </tr>\n    <tr>\n      <th>19</th>\n      <td>sigmoid</td>\n      <td>0.001</td>\n      <td>0.638274</td>\n    </tr>\n    <tr>\n      <th>20</th>\n      <td>sigmoid</td>\n      <td>0.01</td>\n      <td>0.638274</td>\n    </tr>\n    <tr>\n      <th>21</th>\n      <td>sigmoid</td>\n      <td>0.1</td>\n      <td>0.731195</td>\n    </tr>\n    <tr>\n      <th>22</th>\n      <td>sigmoid</td>\n      <td>1</td>\n      <td>0.710177</td>\n    </tr>\n    <tr>\n      <th>23</th>\n      <td>sigmoid</td>\n      <td>10</td>\n      <td>0.695796</td>\n    </tr>\n    <tr>\n      <th>24</th>\n      <td>sigmoid</td>\n      <td>100</td>\n      <td>0.694690</td>\n    </tr>\n  </tbody>\n</table>\n</div>"
     },
     "metadata": {},
     "output_type": "execute_result",
     "execution_count": 33
    }
   ],
   "source": [
    "# c)  Evaluate different values for C and different nuclei to find better performing classifiers\n",
    "for kernel in [\"rbf\", \"poly\", \"linear\", \"sigmoid\"]:\n",
    "    for c_value in np.logspace(-3, 2, 6):   # TODO SVM with C=0.001 seem to predict only 1's -> error in computeAccuracy\n",
    "        clf = svm.SVC(kernel=kernel, C=c_value, gamma=\"scale\", cache_size=500)\n",
    "        clf.fit(X_train, y_train)\n",
    "        predictions = pd.Series(clf.predict(X_test).T)\n",
    "        accuracy = computeAccuracy(predictions, y_test)\n",
    "\n",
    "        svm_values.loc[svm_values.index.max() + 1] = [kernel, c_value, accuracy]\n",
    "\n",
    "time_now = datetime.datetime.now()\n",
    "print(\"\\n\\nRuntime parameter and kernel testing: \", divmod((time_now - words_now).total_seconds(), 60), \"\\n\")\n",
    "\n",
    "svm_values"
   ],
   "metadata": {
    "collapsed": false,
    "pycharm": {
     "name": "#%%\n",
     "is_executing": false
    }
   }
  }
 ],
 "metadata": {
  "kernelspec": {
   "display_name": "Python 3",
   "language": "python",
   "name": "python3"
  },
  "language_info": {
   "codemirror_mode": {
    "name": "ipython",
    "version": 3
   },
   "file_extension": ".py",
   "mimetype": "text/x-python",
   "name": "python",
   "nbconvert_exporter": "python",
   "pygments_lexer": "ipython3",
   "version": "3.7.3"
  },
  "pycharm": {
   "stem_cell": {
    "cell_type": "raw",
    "source": [],
    "metadata": {
     "collapsed": false
    }
   }
  }
 },
 "nbformat": 4,
 "nbformat_minor": 2
}