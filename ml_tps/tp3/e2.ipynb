{
 "cells": [
  {
   "cell_type": "markdown",
   "source": [
    "# TP3 - Ejercicio 2\n",
    "### Enunciado\n",
    "a)  Dividir aleatoriamente el conjunto de datos en dos conjuntos, uno de entrenamiento y uno de prueba.\n",
    "\n",
    "b)  Clasificar la variable categórica _sigdz_ que indica si el paciente posee o no una enfermedad coronaria, utilizando el método SVM. Calcular la matriz de confusión.\n",
    "\n",
    "c)  Proponer  (y  tambien  realizar)  una  secuencia  de  pasos que  permita  encontrar  una clasificación  mejor  que  la  anterior,  evaluando  diferentes  valores  de C y  diferentes núcleos."
   ],
   "metadata": {
    "collapsed": false
   }
  },
  {
   "cell_type": "code",
   "execution_count": 5,
   "outputs": [
    {
     "name": "stdout",
     "text": [
      "Module and package import success\n"
     ],
     "output_type": "stream"
    }
   ],
   "source": [
    "from IPython.display import display\n",
    "import datetime\n",
    "import pandas as pd\n",
    "import numpy as np\n",
    "import os\n",
    "from sklearn import svm\n",
    "from ml_tps.tp3.svm_utils import test_svm_configurations, get_svm_accuracy\n",
    "from ml_tps.utils.evaluation_utils import getConfusionMatrix, computeAccuracy\n",
    "from ml_tps.utils.dataframe_utils import divide_in_training_test_datasets, scale_dataset, seperateDatasetObjectiveData\n",
    "\n",
    "print(\"Module and package import success\")"
   ],
   "metadata": {
    "collapsed": false,
    "pycharm": {
     "name": "#%%\n",
     "is_executing": false
    }
   }
  },
  {
   "cell_type": "code",
   "execution_count": 6,
   "metadata": {
    "pycharm": {
     "is_executing": false,
     "name": "#%%\n"
    }
   },
   "outputs": [
    {
     "name": "stdout",
     "text": [
      "Variable setting and data import success\n"
     ],
     "output_type": "stream"
    }
   ],
   "source": [
    "dir_path = os.path.dirname(os.path.realpath(\"e2.ipynb\"))\n",
    "DEFAULT_FILEPATH = f\"{dir_path}/../tp3/data/acath.xls\"\n",
    "DEFAULT_OBJECTIVE = \"sigdz\"\n",
    "DEFAULT_TRAIN_PCTG = 0.6\n",
    "DEFAULT_CV_PCTG = 0.2\n",
    "\n",
    "print(\"Variable setting and data import success\")"
   ]
  },
  {
   "cell_type": "markdown",
   "source": [
    "## Información sobre los conjuntos de datos usados"
   ],
   "metadata": {
    "collapsed": false,
    "pycharm": {
     "name": "#%% md\n"
    }
   }
  },
  {
   "cell_type": "code",
   "execution_count": 7,
   "outputs": [
    {
     "name": "stdout",
     "text": [
      "*** No CODEPAGE record, no encoding_override: will use 'ascii'\n"
     ],
     "output_type": "stream"
    },
    {
     "data": {
      "text/plain": "                                                    acath.xls\nDimensiones del conjunto de datos original (des...  (2258, 6)\nDimensiones del conjunto de entrenamiento           (1354, 6)\nDimensiones del conjunto de validación cruzada       (452, 6)\nDimensiones del conjunto de evaluación               (452, 6)\n% de datos utilizados para entrenamiento                  60%\n% de datos utilizados para validación cruzada             20%\n% de datos utilizados para evaluación                     20%\nVariable objetivo de la clasificación                   sigdz",
      "text/html": "<div>\n<style scoped>\n    .dataframe tbody tr th:only-of-type {\n        vertical-align: middle;\n    }\n\n    .dataframe tbody tr th {\n        vertical-align: top;\n    }\n\n    .dataframe thead th {\n        text-align: right;\n    }\n</style>\n<table border=\"1\" class=\"dataframe\">\n  <thead>\n    <tr style=\"text-align: right;\">\n      <th></th>\n      <th>acath.xls</th>\n    </tr>\n  </thead>\n  <tbody>\n    <tr>\n      <th>Dimensiones del conjunto de datos original (descartando NaN)</th>\n      <td>(2258, 6)</td>\n    </tr>\n    <tr>\n      <th>Dimensiones del conjunto de entrenamiento</th>\n      <td>(1354, 6)</td>\n    </tr>\n    <tr>\n      <th>Dimensiones del conjunto de validación cruzada</th>\n      <td>(452, 6)</td>\n    </tr>\n    <tr>\n      <th>Dimensiones del conjunto de evaluación</th>\n      <td>(452, 6)</td>\n    </tr>\n    <tr>\n      <th>% de datos utilizados para entrenamiento</th>\n      <td>60%</td>\n    </tr>\n    <tr>\n      <th>% de datos utilizados para validación cruzada</th>\n      <td>20%</td>\n    </tr>\n    <tr>\n      <th>% de datos utilizados para evaluación</th>\n      <td>20%</td>\n    </tr>\n    <tr>\n      <th>Variable objetivo de la clasificación</th>\n      <td>sigdz</td>\n    </tr>\n  </tbody>\n</table>\n</div>"
     },
     "metadata": {},
     "output_type": "execute_result",
     "execution_count": 7
    }
   ],
   "source": [
    "# a)  Divide dataset randomly into training and evaluation set\n",
    "dataset = pd.read_excel(DEFAULT_FILEPATH)\n",
    "dataset = dataset.dropna()      # TODO maybe deal with NaN otherwise?\n",
    "dataset_scaled = scale_dataset(dataset, objective=DEFAULT_OBJECTIVE, ignore_objective=True, scaling_type=\"minmax\")\n",
    "\n",
    "train, testing_sets = divide_in_training_test_datasets(dataset_scaled, train_pctg=DEFAULT_TRAIN_PCTG)\n",
    "cv_set, test = divide_in_training_test_datasets(testing_sets, train_pctg=DEFAULT_CV_PCTG/(1-DEFAULT_TRAIN_PCTG))\n",
    "\n",
    "X_train, y_train = seperateDatasetObjectiveData(train, DEFAULT_OBJECTIVE)\n",
    "X_cv_set, y_cv_set = seperateDatasetObjectiveData(cv_set, DEFAULT_OBJECTIVE)\n",
    "X_test, y_test = seperateDatasetObjectiveData(test, DEFAULT_OBJECTIVE)\n",
    "\n",
    "data_info = pd.Series({\"Dimensiones del conjunto de datos original (descartando NaN)\": dataset.shape,\n",
    "                      \"Dimensiones del conjunto de entrenamiento\": train.shape,\n",
    "                      \"Dimensiones del conjunto de validación cruzada\": cv_set.shape,\n",
    "                      \"Dimensiones del conjunto de evaluación\": test.shape,\n",
    "                      \"% de datos utilizados para entrenamiento\": str(int(DEFAULT_TRAIN_PCTG*100)) + \"%\",\n",
    "                      \"% de datos utilizados para validación cruzada\": str(int(DEFAULT_CV_PCTG*100)) + \"%\",\n",
    "                      \"% de datos utilizados para evaluación\": str(int((1-DEFAULT_TRAIN_PCTG-DEFAULT_CV_PCTG)*100)) + \"%\",\n",
    "                      \"Variable objetivo de la clasificación\": DEFAULT_OBJECTIVE})\n",
    "\n",
    "pd.DataFrame(data_info, columns=[\"acath.xls\"])"
   ],
   "metadata": {
    "collapsed": false,
    "pycharm": {
     "name": "#%%\n",
     "is_executing": false
    }
   }
  },
  {
   "cell_type": "markdown",
   "source": [
    "## SVM estándar (b)"
   ],
   "metadata": {
    "collapsed": false,
    "pycharm": {
     "name": "#%% md\n"
    }
   }
  },
  {
   "cell_type": "code",
   "execution_count": 8,
   "outputs": [
    {
     "name": "stdout",
     "text": [
      "Runtime Default SVM fitting and testing:  (0.0, 0.149649) \n\nSVC(C=1, cache_size=200, class_weight=None, coef0=0.0,\n    decision_function_shape='ovr', degree=3, gamma='scale', kernel='rbf',\n    max_iter=-1, probability=False, random_state=None, shrinking=True,\n    tol=0.001, verbose=False) \n\n\n"
     ],
     "output_type": "stream"
    },
    {
     "data": {
      "text/plain": "  Núcleo Parámetro C  Precisión en conjunto de entrenamiento  \\\n0    rbf           1                                0.784343   \n\n   Precisión en conjunto de validación cruzada  \n0                                     0.814159  ",
      "text/html": "<div>\n<style scoped>\n    .dataframe tbody tr th:only-of-type {\n        vertical-align: middle;\n    }\n\n    .dataframe tbody tr th {\n        vertical-align: top;\n    }\n\n    .dataframe thead th {\n        text-align: right;\n    }\n</style>\n<table border=\"1\" class=\"dataframe\">\n  <thead>\n    <tr style=\"text-align: right;\">\n      <th></th>\n      <th>Núcleo</th>\n      <th>Parámetro C</th>\n      <th>Precisión en conjunto de entrenamiento</th>\n      <th>Precisión en conjunto de validación cruzada</th>\n    </tr>\n  </thead>\n  <tbody>\n    <tr>\n      <th>0</th>\n      <td>rbf</td>\n      <td>1</td>\n      <td>0.784343</td>\n      <td>0.814159</td>\n    </tr>\n  </tbody>\n</table>\n</div>"
     },
     "metadata": {},
     "output_type": "execute_result",
     "execution_count": 8
    }
   ],
   "source": [
    "# b)  Classify categorical variable \"sigdz\" using default SVC SVM\n",
    "words_then = datetime.datetime.now()\n",
    "c_value1 = 1\n",
    "kernel1 = \"rbf\"\n",
    "clf1 = svm.SVC(kernel=kernel1, gamma='scale', C=c_value1)      # using default parameters, written down for illustrative purposes\n",
    "clf1.fit(X_train, y_train)\n",
    "\n",
    "predictions_cv1 = pd.Series(clf1.predict(X_cv_set).T)\n",
    "confusion_matrix = getConfusionMatrix(predictions_cv1, y_cv_set)\n",
    "accuracy_train1 = get_svm_accuracy(fitted_classifier=clf1, X=X_train, y=y_train)\n",
    "accuracy_cv1 = get_svm_accuracy(fitted_classifier=clf1, X=X_cv_set, y=y_cv_set)\n",
    "\n",
    "data_default_svm = pd.DataFrame(columns=[\"Núcleo\", \"Parámetro C\", \n",
    "                                         \"Precisión en conjunto de entrenamiento\", \n",
    "                                         \"Precisión en conjunto de validación cruzada\"])\n",
    "data_default_svm.loc[0] = [kernel1, c_value1, accuracy_train1, accuracy_cv1]\n",
    "\n",
    "words_now = datetime.datetime.now()\n",
    "print(\"Runtime Default SVM fitting and testing: \", divmod((words_now - words_then).total_seconds(), 60), \"\\n\")\n",
    "print(clf1, \"\\n\\n\")\n",
    "\n",
    "data_default_svm"
   ],
   "metadata": {
    "collapsed": false,
    "pycharm": {
     "name": "#%%\n",
     "is_executing": false
    }
   }
  },
  {
   "cell_type": "markdown",
   "source": [
    "__Matriz de confusión:__"
   ],
   "metadata": {
    "collapsed": false,
    "pycharm": {
     "name": "#%% md\n"
    }
   }
  },
  {
   "cell_type": "code",
   "execution_count": 9,
   "outputs": [
    {
     "data": {
      "text/plain": "Actual     0.0  1.0\nPredicted          \n0.0         82   32\n1.0         52  286",
      "text/html": "<div>\n<style scoped>\n    .dataframe tbody tr th:only-of-type {\n        vertical-align: middle;\n    }\n\n    .dataframe tbody tr th {\n        vertical-align: top;\n    }\n\n    .dataframe thead th {\n        text-align: right;\n    }\n</style>\n<table border=\"1\" class=\"dataframe\">\n  <thead>\n    <tr style=\"text-align: right;\">\n      <th>Actual</th>\n      <th>0.0</th>\n      <th>1.0</th>\n    </tr>\n    <tr>\n      <th>Predicted</th>\n      <th></th>\n      <th></th>\n    </tr>\n  </thead>\n  <tbody>\n    <tr>\n      <th>0.0</th>\n      <td>82</td>\n      <td>32</td>\n    </tr>\n    <tr>\n      <th>1.0</th>\n      <td>52</td>\n      <td>286</td>\n    </tr>\n  </tbody>\n</table>\n</div>"
     },
     "metadata": {},
     "output_type": "execute_result",
     "execution_count": 9
    }
   ],
   "source": [
    "confusion_matrix\n"
   ],
   "metadata": {
    "collapsed": false,
    "pycharm": {
     "name": "#%%\n",
     "is_executing": false
    }
   }
  },
  {
   "cell_type": "markdown",
   "source": [
    "## Ajuste de parámetros y núcleo (c)"
   ],
   "metadata": {
    "collapsed": false
   }
  },
  {
   "cell_type": "code",
   "execution_count": 10,
   "outputs": [
    {
     "name": "stdout",
     "text": [
      "\n\nRuntime parameter and kernel testing:  (0.0, 2.956046) \n\n"
     ],
     "output_type": "stream"
    },
    {
     "data": {
      "text/plain": "     Kernel  C value  Training set accuracy  CV set accuracy\n0       rbf    0.001               0.650665         0.703540\n1       rbf    0.010               0.770310         0.798673\n2       rbf    0.100               0.769572         0.798673\n3       rbf    1.000               0.784343         0.814159\n4       rbf   10.000               0.785820         0.816372\n5       rbf  100.000               0.786558         0.816372\n6      poly    0.001               0.768833         0.798673\n7      poly    0.010               0.769572         0.798673\n8      poly    0.100               0.769572         0.798673\n9      poly    1.000               0.769572         0.798673\n10     poly   10.000               0.769572         0.798673\n11     poly  100.000               0.771049         0.798673\n12   linear    0.001               0.650665         0.703540\n13   linear    0.010               0.770310         0.798673\n14   linear    0.100               0.769572         0.798673\n15   linear    1.000               0.769572         0.798673\n16   linear   10.000               0.769572         0.798673\n17   linear  100.000               0.769572         0.798673\n18  sigmoid    0.001               0.650665         0.703540\n19  sigmoid    0.010               0.650665         0.703540\n20  sigmoid    0.100               0.734121         0.743363\n21  sigmoid    1.000               0.711965         0.699115\n22  sigmoid   10.000               0.686854         0.674779\n23  sigmoid  100.000               0.685377         0.670354",
      "text/html": "<div>\n<style scoped>\n    .dataframe tbody tr th:only-of-type {\n        vertical-align: middle;\n    }\n\n    .dataframe tbody tr th {\n        vertical-align: top;\n    }\n\n    .dataframe thead th {\n        text-align: right;\n    }\n</style>\n<table border=\"1\" class=\"dataframe\">\n  <thead>\n    <tr style=\"text-align: right;\">\n      <th></th>\n      <th>Kernel</th>\n      <th>C value</th>\n      <th>Training set accuracy</th>\n      <th>CV set accuracy</th>\n    </tr>\n  </thead>\n  <tbody>\n    <tr>\n      <th>0</th>\n      <td>rbf</td>\n      <td>0.001</td>\n      <td>0.650665</td>\n      <td>0.703540</td>\n    </tr>\n    <tr>\n      <th>1</th>\n      <td>rbf</td>\n      <td>0.010</td>\n      <td>0.770310</td>\n      <td>0.798673</td>\n    </tr>\n    <tr>\n      <th>2</th>\n      <td>rbf</td>\n      <td>0.100</td>\n      <td>0.769572</td>\n      <td>0.798673</td>\n    </tr>\n    <tr>\n      <th>3</th>\n      <td>rbf</td>\n      <td>1.000</td>\n      <td>0.784343</td>\n      <td>0.814159</td>\n    </tr>\n    <tr>\n      <th>4</th>\n      <td>rbf</td>\n      <td>10.000</td>\n      <td>0.785820</td>\n      <td>0.816372</td>\n    </tr>\n    <tr>\n      <th>5</th>\n      <td>rbf</td>\n      <td>100.000</td>\n      <td>0.786558</td>\n      <td>0.816372</td>\n    </tr>\n    <tr>\n      <th>6</th>\n      <td>poly</td>\n      <td>0.001</td>\n      <td>0.768833</td>\n      <td>0.798673</td>\n    </tr>\n    <tr>\n      <th>7</th>\n      <td>poly</td>\n      <td>0.010</td>\n      <td>0.769572</td>\n      <td>0.798673</td>\n    </tr>\n    <tr>\n      <th>8</th>\n      <td>poly</td>\n      <td>0.100</td>\n      <td>0.769572</td>\n      <td>0.798673</td>\n    </tr>\n    <tr>\n      <th>9</th>\n      <td>poly</td>\n      <td>1.000</td>\n      <td>0.769572</td>\n      <td>0.798673</td>\n    </tr>\n    <tr>\n      <th>10</th>\n      <td>poly</td>\n      <td>10.000</td>\n      <td>0.769572</td>\n      <td>0.798673</td>\n    </tr>\n    <tr>\n      <th>11</th>\n      <td>poly</td>\n      <td>100.000</td>\n      <td>0.771049</td>\n      <td>0.798673</td>\n    </tr>\n    <tr>\n      <th>12</th>\n      <td>linear</td>\n      <td>0.001</td>\n      <td>0.650665</td>\n      <td>0.703540</td>\n    </tr>\n    <tr>\n      <th>13</th>\n      <td>linear</td>\n      <td>0.010</td>\n      <td>0.770310</td>\n      <td>0.798673</td>\n    </tr>\n    <tr>\n      <th>14</th>\n      <td>linear</td>\n      <td>0.100</td>\n      <td>0.769572</td>\n      <td>0.798673</td>\n    </tr>\n    <tr>\n      <th>15</th>\n      <td>linear</td>\n      <td>1.000</td>\n      <td>0.769572</td>\n      <td>0.798673</td>\n    </tr>\n    <tr>\n      <th>16</th>\n      <td>linear</td>\n      <td>10.000</td>\n      <td>0.769572</td>\n      <td>0.798673</td>\n    </tr>\n    <tr>\n      <th>17</th>\n      <td>linear</td>\n      <td>100.000</td>\n      <td>0.769572</td>\n      <td>0.798673</td>\n    </tr>\n    <tr>\n      <th>18</th>\n      <td>sigmoid</td>\n      <td>0.001</td>\n      <td>0.650665</td>\n      <td>0.703540</td>\n    </tr>\n    <tr>\n      <th>19</th>\n      <td>sigmoid</td>\n      <td>0.010</td>\n      <td>0.650665</td>\n      <td>0.703540</td>\n    </tr>\n    <tr>\n      <th>20</th>\n      <td>sigmoid</td>\n      <td>0.100</td>\n      <td>0.734121</td>\n      <td>0.743363</td>\n    </tr>\n    <tr>\n      <th>21</th>\n      <td>sigmoid</td>\n      <td>1.000</td>\n      <td>0.711965</td>\n      <td>0.699115</td>\n    </tr>\n    <tr>\n      <th>22</th>\n      <td>sigmoid</td>\n      <td>10.000</td>\n      <td>0.686854</td>\n      <td>0.674779</td>\n    </tr>\n    <tr>\n      <th>23</th>\n      <td>sigmoid</td>\n      <td>100.000</td>\n      <td>0.685377</td>\n      <td>0.670354</td>\n    </tr>\n  </tbody>\n</table>\n</div>"
     },
     "metadata": {},
     "output_type": "execute_result",
     "execution_count": 10
    }
   ],
   "source": [
    "# c)  Evaluate different values for C and different nuclei to find better performing classifiers\n",
    "kernels = [\"rbf\", \"poly\", \"linear\", \"sigmoid\"]\n",
    "c_values = list(np.logspace(-3, 2, 6))\n",
    "svm_values, best_svm = test_svm_configurations(kernels, c_values, X_train, y_train, X_cv_set, y_cv_set)\n",
    "\n",
    "time_now = datetime.datetime.now()\n",
    "print(\"\\n\\nRuntime parameter and kernel testing: \", divmod((time_now - words_now).total_seconds(), 60), \"\\n\")\n",
    "\n",
    "svm_values"
   ],
   "metadata": {
    "collapsed": false,
    "pycharm": {
     "name": "#%%\n",
     "is_executing": false
    }
   }
  },
  {
   "cell_type": "markdown",
   "source": [
    "### Configuración de SVM con mejor rendimiento:\n",
    "(en conjunto de validación cruzada)\n"
   ],
   "metadata": {
    "collapsed": false,
    "pycharm": {
     "name": "#%% md\n"
    }
   }
  },
  {
   "cell_type": "code",
   "execution_count": 11,
   "outputs": [
    {
     "data": {
      "text/plain": "  Kernel  C value  Training set accuracy  CV set accuracy\n4    rbf     10.0                0.78582         0.816372",
      "text/html": "<div>\n<style scoped>\n    .dataframe tbody tr th:only-of-type {\n        vertical-align: middle;\n    }\n\n    .dataframe tbody tr th {\n        vertical-align: top;\n    }\n\n    .dataframe thead th {\n        text-align: right;\n    }\n</style>\n<table border=\"1\" class=\"dataframe\">\n  <thead>\n    <tr style=\"text-align: right;\">\n      <th></th>\n      <th>Kernel</th>\n      <th>C value</th>\n      <th>Training set accuracy</th>\n      <th>CV set accuracy</th>\n    </tr>\n  </thead>\n  <tbody>\n    <tr>\n      <th>4</th>\n      <td>rbf</td>\n      <td>10.0</td>\n      <td>0.78582</td>\n      <td>0.816372</td>\n    </tr>\n  </tbody>\n</table>\n</div>"
     },
     "metadata": {},
     "output_type": "execute_result",
     "execution_count": 11
    }
   ],
   "source": [
    "# Choose SVM with highest accuracy after hyperparameter tuning\n",
    "winner = svm_values.sort_values(by=\"CV set accuracy\", ascending=False).head(1)\n",
    "winner"
   ],
   "metadata": {
    "collapsed": false,
    "pycharm": {
     "name": "#%%\n",
     "is_executing": false
    }
   }
  },
  {
   "cell_type": "markdown",
   "source": [
    "### Precisión en conjunto de evaluación:"
   ],
   "metadata": {
    "collapsed": false,
    "pycharm": {
     "name": "#%% md\n"
    }
   }
  },
  {
   "cell_type": "code",
   "execution_count": 13,
   "outputs": [
    {
     "name": "stdout",
     "text": [
      "= 0.7743362831858407\n"
     ],
     "output_type": "stream"
    }
   ],
   "source": [
    "best_svm.fit(X_train, y_train)\n",
    "winner_test_accuracy = get_svm_accuracy(fitted_classifier=best_svm, X=X_test, y=y_test)\n",
    "    \n",
    "print(\"=\", winner_test_accuracy)"
   ],
   "metadata": {
    "collapsed": false,
    "pycharm": {
     "name": "#%%\n",
     "is_executing": false
    }
   }
  }
 ],
 "metadata": {
  "kernelspec": {
   "display_name": "Python 3",
   "language": "python",
   "name": "python3"
  },
  "language_info": {
   "codemirror_mode": {
    "name": "ipython",
    "version": 3
   },
   "file_extension": ".py",
   "mimetype": "text/x-python",
   "name": "python",
   "nbconvert_exporter": "python",
   "pygments_lexer": "ipython3",
   "version": "3.7.3"
  },
  "pycharm": {
   "stem_cell": {
    "cell_type": "raw",
    "source": [],
    "metadata": {
     "collapsed": false
    }
   }
  }
 },
 "nbformat": 4,
 "nbformat_minor": 2
}