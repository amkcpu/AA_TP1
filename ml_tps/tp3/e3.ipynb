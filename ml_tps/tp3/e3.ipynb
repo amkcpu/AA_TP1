{
 "cells": [
  {
   "cell_type": "markdown",
   "metadata": {
    "collapsed": true,
    "pycharm": {
     "name": "#%% md\n"
    }
   },
   "source": [
    "# TP3 - Ejercicio 3\n",
    "### Segmentación de Imagenes (usando SVM)\n",
    "\n",
    "##### Enunciado:\n",
    "Considere la imagen cow.jpg y las imágenes muestra: vaca.jpg, cielo.jpg y pasto.jpg correspondientes a las clases dentro de la imagen “vaca”, “cielo” y “pasto”, respectivamente.\n",
    "\n",
    "a)  Construir un conjunto de datos para entrenamiento, indicando para cada muestra a qué clase pertenece.\n",
    "\n",
    "b)  Dividir aleatoriamente el conjunto de datos en dos conjuntos, uno de entrenamiento y uno de prueba.\n",
    "\n",
    "c)  Utilizar el método SVM para clasificar los pixels del conjunto de prueba, entrenando con el conjunto de entrenamiento. Utilizar diferentes núcleos y diferentes valores del parámetro C. Construir la matriz de confusión para cada caso.\n",
    "\n",
    "d)  ¿Cuál es el núcleo que da mejores resultados? Pensar una justificación teórica para la respuesta.\n",
    "\n",
    "e)  Con el mismo método ya entrenado clasificar todos los pixels de la imagen.\n",
    "\n",
    "f)  Con el mismo método ya entrenado clasificar todos los pixels de otra imagen."
   ]
  },
  {
   "cell_type": "code",
   "execution_count": 1,
   "outputs": [],
   "source": [
    "import os\n",
    "import pandas as pd\n",
    "import numpy as np\n",
    "import matplotlib.image as img\n",
    "import matplotlib.pyplot as plt\n",
    "from ml_tps.utils.data_processing import divide_in_training_test_datasets, scale_dataset, get_test_train_X_y\n",
    "from ml_tps.utils.image_processing import read_image_to_dataframe, segment_and_draw_image\n",
    "from ml_tps.utils.hyperparameter_tuning import test_svm_configurations\n",
    "\n",
    "print(\"Paquetes importados.\")"
   ],
   "metadata": {
    "collapsed": false,
    "pycharm": {
     "name": "#%%\n",
     "is_executing": false
    }
   }
  },
  {
   "cell_type": "code",
   "execution_count": 2,
   "outputs": [],
   "source": [
    "dir_path = os.path.dirname(os.path.realpath(\"e3.ipynb\"))\n",
    "DEFAULT_FILEPATH = f\"{dir_path}/../tp3/data/\"\n",
    "PCTG_DATA_TO_USE = 0.1      # so that computation does not take too long, use smaller percentage of data\n",
    "\n",
    "pictures = []\n",
    "picture_names = [\"cow\", \"cielo\", \"pasto\", \"vaca\"]\n",
    "\n",
    "for pic in picture_names:\n",
    "    pictures.append(img.imread(DEFAULT_FILEPATH + pic + \".jpg\"))\n",
    "\n",
    "i = 221\n",
    "for pic in pictures:\n",
    "    plt.subplot(i)\n",
    "    plt.imshow(pic)\n",
    "    i += 1\n",
    "plt.show()"
   ],
   "metadata": {
    "collapsed": false,
    "pycharm": {
     "name": "#%%\n",
     "is_executing": false
    }
   }
  },
  {
   "cell_type": "code",
   "execution_count": 3,
   "outputs": [],
   "source": [
    "# Data preparation\n",
    "filepath_sky = DEFAULT_FILEPATH + \"cielo.jpg\"\n",
    "filepath_cow = DEFAULT_FILEPATH + \"vaca.jpg\"\n",
    "filepath_grass = DEFAULT_FILEPATH + \"pasto.jpg\"\n",
    "filepath_given_test_image = DEFAULT_FILEPATH + \"cow.jpg\"\n",
    "filepath_own_test_image = DEFAULT_FILEPATH + \"field_sky_test_image.jpg\"\n",
    "\n",
    "objective_desc = \"Objective\"\n",
    "\n",
    "# a)  Construir un conjunto de datos para entrenamiento, indicando para cada muestra a qué clase pertenece.\n",
    "data_sky, discard_sky = divide_in_training_test_datasets(read_image_to_dataframe(filepath_sky), PCTG_DATA_TO_USE)\n",
    "data_cow, discard_cow = divide_in_training_test_datasets(read_image_to_dataframe(filepath_cow), PCTG_DATA_TO_USE)\n",
    "data_grass, discard_grass = divide_in_training_test_datasets(read_image_to_dataframe(filepath_grass), PCTG_DATA_TO_USE)\n",
    "data_given_test_image = read_image_to_dataframe(filepath_given_test_image)\n",
    "data_own_test_image = read_image_to_dataframe(filepath_own_test_image)\n",
    "\n",
    "# Add objective columns\n",
    "data_sky[objective_desc] = \"Sky\"\n",
    "data_cow[objective_desc] = \"Cow\"\n",
    "data_grass[objective_desc] = \"Grass\"\n",
    "\n",
    "# Scale image data\n",
    "data_sky = scale_dataset(dataset=data_sky, objective=objective_desc)\n",
    "data_cow = scale_dataset(dataset=data_cow, objective=objective_desc)\n",
    "data_grass = scale_dataset(dataset=data_grass, objective=objective_desc)\n",
    "data_given_test_image = scale_dataset(dataset=data_given_test_image, objective=None)\n",
    "data_own_test_image = scale_dataset(dataset=data_own_test_image, objective=None)\n",
    "\n",
    "# Merge data for classification\n",
    "merged_data = pd.concat([data_sky, data_cow, data_grass], ignore_index=True)\n",
    "\n",
    "# b)  Divide data set into training and cross-validation (cv) set\n",
    "X_train, y_train, X_cv_set, y_cv_set = get_test_train_X_y(merged_data, objective=objective_desc)\n",
    "\n",
    "print(\"Datos importados y procesados.\")"
   ],
   "metadata": {
    "collapsed": false,
    "pycharm": {
     "name": "#%%\n",
     "is_executing": false
    }
   }
  },
  {
   "cell_type": "markdown",
   "source": [
    "## Parte c) - Entrenamiento con SVM\n",
    "#### Matrices de confusión"
   ],
   "metadata": {
    "collapsed": false,
    "pycharm": {
     "name": "#%% md\n"
    }
   }
  },
  {
   "cell_type": "code",
   "execution_count": 4,
   "outputs": [],
   "source": [
    "# Part c)\n",
    "kernels = [\"rbf\", \"poly\", \"linear\", \"sigmoid\"]\n",
    "c_values = list(np.logspace(-3, 2, 6))\n",
    "\n",
    "# test_svm_configurations() for classification + Confusion Matrix for each one\n",
    "svm_values, best_svm = test_svm_configurations(kernels=kernels, c_values=c_values, X_train=X_train, y_train=y_train,\n",
    "                                               X_cv_set=X_cv_set, y_cv_set=y_cv_set, printConfusionMatrices=True)"
   ],
   "metadata": {
    "collapsed": false,
    "pycharm": {
     "name": "#%%\n",
     "is_executing": false
    }
   }
  },
  {
   "cell_type": "markdown",
   "source": [
    "#### Lista de configuraciones"
   ],
   "metadata": {
    "collapsed": false,
    "pycharm": {
     "name": "#%% md\n"
    }
   }
  },
  {
   "cell_type": "code",
   "execution_count": 5,
   "outputs": [],
   "source": [
    "svm_values"
   ],
   "metadata": {
    "collapsed": false,
    "pycharm": {
     "name": "#%%\n",
     "is_executing": false
    }
   }
  },
  {
   "cell_type": "markdown",
   "source": [
    "## Parte d) - Comparación de núcleos\n",
    "#### Núcleo que da mejores resultados (precisión)"
   ],
   "metadata": {
    "collapsed": false,
    "pycharm": {
     "name": "#%% md\n"
    }
   }
  },
  {
   "cell_type": "code",
   "execution_count": 6,
   "outputs": [],
   "source": [
    "kernels_average = pd.Series()\n",
    "i = 0\n",
    "for kernel in kernels:\n",
    "    kernels_average[kernel] = svm_values[svm_values[\"Kernel\"] == kernel][\"CV set accuracy\"].mean()\n",
    "    i += 1\n",
    "\n",
    "best_kernel = kernels_average.sort_values(ascending=False).head(1)\n",
    "\n",
    "pd.DataFrame(best_kernel, columns=[\"Precisión\"])"
   ],
   "metadata": {
    "collapsed": false,
    "pycharm": {
     "name": "#%%\n",
     "is_executing": false
    }
   }
  },
  {
   "cell_type": "markdown",
   "source": [
    "## Parte e) - Clasificación de la imagen dada"
   ],
   "metadata": {
    "collapsed": false,
    "pycharm": {
     "name": "#%% md\n"
    }
   }
  },
  {
   "cell_type": "code",
   "execution_count": 7,
   "outputs": [],
   "source": [
    "plt.imshow(img.imread(DEFAULT_FILEPATH + \"cow.jpg\"))\n",
    "plt.show()"
   ],
   "metadata": {
    "collapsed": false,
    "pycharm": {
     "name": "#%%\n",
     "is_executing": false
    }
   }
  },
  {
   "cell_type": "code",
   "execution_count": 8,
   "outputs": [],
   "source": [
    "best_svm.fit(X_train, y_train)\n",
    "\n",
    "red = [255, 0, 0]\n",
    "green = [0, 255, 0]\n",
    "blue = [0, 0, 255]\n",
    "color_per_class = {\"Sky\": blue,\n",
    "                   \"Cow\": red,\n",
    "                   \"Grass\": green}\n",
    "\n",
    "segment_and_draw_image(fitted_classifier=best_svm, image=data_given_test_image,\n",
    "                       color_per_class=color_per_class, height=760, width=1140)"
   ],
   "metadata": {
    "collapsed": false,
    "pycharm": {
     "name": "#%%\n",
     "is_executing": false
    }
   }
  },
  {
   "cell_type": "markdown",
   "source": [
    "## Parte f) - Clasificación de otra imagen"
   ],
   "metadata": {
    "collapsed": false,
    "pycharm": {
     "name": "#%% md\n"
    }
   }
  },
  {
   "cell_type": "code",
   "execution_count": 9,
   "outputs": [],
   "source": [
    "plt.imshow(img.imread(DEFAULT_FILEPATH + \"field_sky_test_image.jpg\"))\n",
    "plt.show()\n",
    "\n",
    "segment_and_draw_image(fitted_classifier=best_svm, image=data_own_test_image,\n",
    "                       color_per_class=color_per_class, height=627, width=1200)"
   ],
   "metadata": {
    "collapsed": false,
    "pycharm": {
     "name": "#%%\n",
     "is_executing": false
    }
   }
  }
 ],
 "metadata": {
  "kernelspec": {
   "display_name": "Python 3",
   "language": "python",
   "name": "python3"
  },
  "language_info": {
   "codemirror_mode": {
    "name": "ipython",
    "version": 2
   },
   "file_extension": ".py",
   "mimetype": "text/x-python",
   "name": "python",
   "nbconvert_exporter": "python",
   "pygments_lexer": "ipython2",
   "version": "2.7.6"
  },
  "pycharm": {
   "stem_cell": {
    "cell_type": "raw",
    "source": [],
    "metadata": {
     "collapsed": false
    }
   }
  }
 },
 "nbformat": 4,
 "nbformat_minor": 0
}