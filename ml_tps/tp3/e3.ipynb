{
 "cells": [
  {
   "cell_type": "markdown",
   "metadata": {
    "collapsed": true,
    "pycharm": {
     "name": "#%% md\n"
    }
   },
   "source": [
    "# TP3 - Ejercicio 3\n",
    "### Enunciado\n",
    "\n",
    "##### Segmentación de Imagenes en color:\n",
    "Considere la imagen cow.jpg y las imágenes muestra: vaca.jpg, cielo.jpg y pasto.jpg correspondientes a las clases dentro de la imagen “vaca”, “cielo” y “pasto”, respectivamente.\n",
    "\n",
    "a)  Construir un conjunto de datos para entrenamiento, indicando para cada muestra a qué clase pertenece.\n",
    "\n",
    "b)  Dividir aleatoriamente el conjunto de datos en dos conjuntos, uno de entrenamiento y uno de prueba.\n",
    "\n",
    "c)  Utilizar el método SVM para clasificar los pixels del conjunto de prueba, entrenando con el conjunto de entrenamiento. Utilizar diferentes núcleos y diferentes valores del parámetro C. Construir la matriz de confusión para cada caso.\n",
    "\n",
    "d)  ¿Cuál es el núcleo que da mejores resultados? Pensar una justificación teórica para la respuesta.\n",
    "\n",
    "e)  Con el mismo método ya entrenado clasificar todos los pixels de la imagen.\n",
    "\n",
    "f)  Con el mismo método ya entrenado clasificar todos los pixels de otra imagen."
   ]
  },
  {
   "cell_type": "code",
   "execution_count": 25,
   "outputs": [
    {
     "name": "stdout",
     "text": [
      "Module and package import success\n"
     ],
     "output_type": "stream"
    }
   ],
   "source": [
    "import os\n",
    "import matplotlib.image as img\n",
    "import matplotlib.pyplot as plt\n",
    "\n",
    "print(\"Module and package import success\")"
   ],
   "metadata": {
    "collapsed": false,
    "pycharm": {
     "name": "#%%\n",
     "is_executing": false
    }
   }
  },
  {
   "cell_type": "code",
   "execution_count": 26,
   "outputs": [
    {
     "name": "stdout",
     "text": [
      "Variable setting and data import success\n"
     ],
     "output_type": "stream"
    }
   ],
   "source": [
    "dir_path = os.path.dirname(os.path.realpath(\"e3.ipynb\"))\n",
    "DEFAULT_FILEPATH = f\"{dir_path}/../tp3/data/\"\n",
    "\n",
    "print(\"Variable setting and data import success\")"
   ],
   "metadata": {
    "collapsed": false,
    "pycharm": {
     "name": "#%%\n",
     "is_executing": false
    }
   }
  },
  {
   "cell_type": "code",
   "execution_count": 27,
   "outputs": [],
   "source": [
    "pictures = []\n",
    "picture_names = [\"cielo\", \"cow\", \"pasto\", \"vaca\"]\n",
    "\n",
    "for pic in picture_names:\n",
    "    pictures.append(img.imread(DEFAULT_FILEPATH + pic + \".jpg\"))\n",
    "\n",
    "for pic in pictures:\n",
    "    plt.imshow(pic)"
   ],
   "metadata": {
    "collapsed": false,
    "pycharm": {
     "name": "#%%\n",
     "is_executing": false
    }
   }
  }
 ],
 "metadata": {
  "kernelspec": {
   "display_name": "Python 3",
   "language": "python",
   "name": "python3"
  },
  "language_info": {
   "codemirror_mode": {
    "name": "ipython",
    "version": 2
   },
   "file_extension": ".py",
   "mimetype": "text/x-python",
   "name": "python",
   "nbconvert_exporter": "python",
   "pygments_lexer": "ipython2",
   "version": "2.7.6"
  },
  "pycharm": {
   "stem_cell": {
    "cell_type": "raw",
    "source": [],
    "metadata": {
     "collapsed": false
    }
   }
  }
 },
 "nbformat": 4,
 "nbformat_minor": 0
}