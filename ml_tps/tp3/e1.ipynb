{
 "cells": [
  {
   "cell_type": "markdown",
   "source": [
    "# TP3 - Ejercicio 1\n",
    "### Perceptrón simple\n",
    "\n",
    "##### Enunciado\n",
    "Generar, en forma aleatoria, un conjunto de ejemplos en [0,5]×[0,5] tal que pertenezcan a dos clases linealmente separables 1 y −1.\n",
    "\n",
    "a)  Utilice un perceptrón simple escalón para separar al conjunto linealmente. ¿El hiperplano de separación es ́optimo? Justifique la respuesta.\n",
    "\n",
    "b)  ¿Cómo obtendría el hiperplano ́optimo a partir del hiperplano generado por el perceptrón simple escalón?\n",
    "\n",
    "c)  ¿Cómo utilizaría un perceptrón simple para separar dos clases que no son linealmente separables? Contemple la posibilidad de usar un perceptrón simple lineal."
   ],
   "metadata": {
    "collapsed": false
   }
  },
  {
   "cell_type": "code",
   "execution_count": 1,
   "outputs": [
    {
     "traceback": [
      "\u001b[1;31m---------------------------------------------------------------------------\u001b[0m",
      "\u001b[1;31mModuleNotFoundError\u001b[0m                       Traceback (most recent call last)",
      "\u001b[1;32m<ipython-input-1-6ae9eb23901e>\u001b[0m in \u001b[0;36m<module>\u001b[1;34m\u001b[0m\n\u001b[0;32m      1\u001b[0m \u001b[0mget_ipython\u001b[0m\u001b[1;33m(\u001b[0m\u001b[1;33m)\u001b[0m\u001b[1;33m.\u001b[0m\u001b[0mrun_line_magic\u001b[0m\u001b[1;33m(\u001b[0m\u001b[1;34m'matplotlib'\u001b[0m\u001b[1;33m,\u001b[0m \u001b[1;34m'notebook'\u001b[0m\u001b[1;33m)\u001b[0m\u001b[1;33m\u001b[0m\u001b[1;33m\u001b[0m\u001b[0m\n\u001b[0;32m      2\u001b[0m \u001b[1;33m\u001b[0m\u001b[0m\n\u001b[1;32m----> 3\u001b[1;33m \u001b[1;32mfrom\u001b[0m \u001b[0mml_tps\u001b[0m\u001b[1;33m.\u001b[0m\u001b[0mtp3\u001b[0m\u001b[1;33m.\u001b[0m\u001b[0mnotebooks\u001b[0m\u001b[1;33m.\u001b[0m\u001b[0mutils\u001b[0m \u001b[1;32mimport\u001b[0m \u001b[0me1\u001b[0m\u001b[1;33m\u001b[0m\u001b[1;33m\u001b[0m\u001b[0m\n\u001b[0m\u001b[0;32m      4\u001b[0m \u001b[0mEPOCH\u001b[0m \u001b[1;33m=\u001b[0m \u001b[1;36m5000\u001b[0m\u001b[1;33m\u001b[0m\u001b[1;33m\u001b[0m\u001b[0m\n\u001b[0;32m      5\u001b[0m \u001b[0mPOINTS\u001b[0m \u001b[1;33m=\u001b[0m \u001b[1;36m100\u001b[0m\u001b[1;33m\u001b[0m\u001b[1;33m\u001b[0m\u001b[0m\n",
      "\u001b[1;32m~\\PycharmProjects\\AA_TP1\\ml_tps\\tp3\\notebooks\\utils.py\u001b[0m in \u001b[0;36m<module>\u001b[1;34m\u001b[0m\n\u001b[0;32m      3\u001b[0m \u001b[1;32mimport\u001b[0m \u001b[0mmatplotlib\u001b[0m\u001b[1;33m.\u001b[0m\u001b[0mpyplot\u001b[0m \u001b[1;32mas\u001b[0m \u001b[0mplt\u001b[0m\u001b[1;33m\u001b[0m\u001b[1;33m\u001b[0m\u001b[0m\n\u001b[0;32m      4\u001b[0m \u001b[1;32mfrom\u001b[0m \u001b[0mmpl_toolkits\u001b[0m\u001b[1;33m.\u001b[0m\u001b[0mmplot3d\u001b[0m \u001b[1;32mimport\u001b[0m \u001b[0mAxes3D\u001b[0m\u001b[1;33m\u001b[0m\u001b[1;33m\u001b[0m\u001b[0m\n\u001b[1;32m----> 5\u001b[1;33m \u001b[1;32mfrom\u001b[0m \u001b[0mml_tps\u001b[0m\u001b[1;33m.\u001b[0m\u001b[0mtp3\u001b[0m\u001b[1;33m.\u001b[0m\u001b[0mspace_generation\u001b[0m \u001b[1;32mimport\u001b[0m \u001b[0mBooleanPlane\u001b[0m\u001b[1;33m,\u001b[0m \u001b[0mPoint\u001b[0m\u001b[1;33m\u001b[0m\u001b[1;33m\u001b[0m\u001b[0m\n\u001b[0m\u001b[0;32m      6\u001b[0m \u001b[1;33m\u001b[0m\u001b[0m\n\u001b[0;32m      7\u001b[0m \u001b[1;33m\u001b[0m\u001b[0m\n",
      "\u001b[1;31mModuleNotFoundError\u001b[0m: No module named 'ml_tps.tp3.space_generation'"
     ],
     "ename": "ModuleNotFoundError",
     "evalue": "No module named 'ml_tps.tp3.space_generation'",
     "output_type": "error"
    }
   ],
   "source": [
    "%matplotlib notebook\n",
    "\n",
    "from ml_tps.tp3.notebooks.utils import e1\n",
    "EPOCH = 5000\n",
    "POINTS = 100\n",
    "ETA = 0.05\n",
    "ERROR = 0.0\n",
    "e1(epoch=EPOCH, points_count=POINTS, eta=ETA, min_error=ERROR)"
   ],
   "metadata": {
    "collapsed": false,
    "pycharm": {
     "name": "#%%\n",
     "is_executing": false
    }
   }
  }
 ],
 "metadata": {
  "kernelspec": {
   "display_name": "Python 3",
   "language": "python",
   "name": "python3"
  },
  "language_info": {
   "codemirror_mode": {
    "name": "ipython",
    "version": 3
   },
   "file_extension": ".py",
   "mimetype": "text/x-python",
   "name": "python",
   "nbconvert_exporter": "python",
   "pygments_lexer": "ipython3",
   "version": "3.6.7"
  },
  "pycharm": {
   "stem_cell": {
    "cell_type": "raw",
    "source": [],
    "metadata": {
     "collapsed": false
    }
   }
  }
 },
 "nbformat": 4,
 "nbformat_minor": 1
}