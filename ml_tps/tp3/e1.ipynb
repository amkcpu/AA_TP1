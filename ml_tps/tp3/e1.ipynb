{
 "cells": [
  {
   "cell_type": "markdown",
   "metadata": {},
   "source": [
    "# TP3 - Ejercicio 1\n",
    "### Perceptrón simple\n",
    "\n",
    "##### Enunciado\n",
    "Generar, en forma aleatoria, un conjunto de ejemplos en [0,5]×[0,5] tal que pertenezcan a dos clases linealmente separables 1 y −1.\n",
    "\n",
    "a)  Utilice un perceptrón simple escalón para separar al conjunto linealmente. ¿El hiperplano de separación es ́optimo? Justifique la respuesta.\n",
    "\n",
    "b)  ¿Cómo obtendría el hiperplano ́optimo a partir del hiperplano generado por el perceptrón simple escalón?\n",
    "\n",
    "c)  ¿Cómo utilizaría un perceptrón simple para separar dos clases que no son linealmente separables? Contemple la posibilidad de usar un perceptrón simple lineal."
   ]
  },
  {
   "cell_type": "code",
   "execution_count": 5,
   "metadata": {
    "pycharm": {
     "is_executing": false,
     "name": "#%%\n"
    }
   },
   "outputs": [],
   "source": [
    "%matplotlib notebook\n",
    "\n",
    "from ml_tps.tp3.notebooks.utils import e1\n",
    "EPOCH = 10\n",
    "POINTS = 100\n",
    "ETA = 0.05\n",
    "ERROR = 0.0\n",
    "e1(epoch=EPOCH, points_count=POINTS, eta=ETA, min_error=ERROR)"
   ]
  }
 ],
 "metadata": {
  "kernelspec": {
   "display_name": "Python 3",
   "language": "python",
   "name": "python3"
  },
  "language_info": {
   "codemirror_mode": {
    "name": "ipython",
    "version": 3
   },
   "file_extension": ".py",
   "mimetype": "text/x-python",
   "name": "python",
   "nbconvert_exporter": "python",
   "pygments_lexer": "ipython3",
   "version": "3.7.3"
  },
  "pycharm": {
   "stem_cell": {
    "cell_type": "raw",
    "metadata": {
     "collapsed": false
    },
    "source": []
   }
  }
 },
 "nbformat": 4,
 "nbformat_minor": 1
}