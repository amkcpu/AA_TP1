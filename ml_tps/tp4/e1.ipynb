{
 "cells": [
  {
   "cell_type": "markdown",
   "source": [
    "# Ejercicio 1"
   ],
   "metadata": {
    "collapsed": false
   }
  },
  {
   "cell_type": "code",
   "execution_count": 36,
   "metadata": {
    "collapsed": true,
    "pycharm": {
     "is_executing": false
    }
   },
   "outputs": [],
   "source": [
    "%%time\n",
    "import os\n",
    "import pandas as pd\n",
    "import pandas_profiling\n",
    "\n",
    "from ml_tps.utils.data_processing import get_test_train_X_y, scale_dataset\n",
    "from ml_tps.algorithms.logistic_regression import LogisticRegression\n",
    "from ml_tps.utils.evaluation import getConfusionMatrix, computeAccuracy\n",
    "from ml_tps.algorithms.k_nearest_neighbors import KNN\n",
    "from ml_tps.algorithms.k_means import KMeans\n",
    "\n",
    "# For multiple outputs\n",
    "from IPython.core.interactiveshell import InteractiveShell\n",
    "InteractiveShell.ast_node_interactivity = \"all\"\n",
    "\n",
    "print(\"Dependencias importadas con éxito.\")"
   ]
  },
  {
   "cell_type": "code",
   "execution_count": 11,
   "outputs": [],
   "source": [
    "%%time\n",
    "dir_path = os.path.dirname(os.path.realpath(\"e1.ipynb\"))\n",
    "filepath = f\"{dir_path}/../tp3/data/acath.xls\"\n",
    "data = pd.read_excel(filepath)\n",
    "\n",
    "data.profile_report()"
   ],
   "metadata": {
    "collapsed": false,
    "pycharm": {
     "name": "#%%\n",
     "is_executing": false
    }
   }
  },
  {
   "cell_type": "code",
   "execution_count": 12,
   "outputs": [],
   "source": [
    "%%time\n",
    "objective = \"sigdz\"\n",
    "train_pctg = 0.6\n",
    "\n",
    "data = data.drop(\"tvdlm\", axis=1)\n",
    "data = data.dropna()\n",
    "\n",
    "data = scale_dataset(data, scaling_type=\"minmax\", objective=objective)\n",
    "data_incl_sex = data\n",
    "data = data.drop(\"sex\", axis=1)\n",
    "X_train, y_train, X_test, y_test = get_test_train_X_y(data, objective, train_pctg)\n",
    "\n",
    "print(\"Datos limpiados y procesados.\")"
   ],
   "metadata": {
    "collapsed": false,
    "pycharm": {
     "name": "#%%\n",
     "is_executing": false
    }
   }
  },
  {
   "cell_type": "markdown",
   "source": [
    "## b) Regresión logística"
   ],
   "metadata": {
    "collapsed": false,
    "pycharm": {
     "name": "#%% md\n"
    }
   }
  },
  {
   "cell_type": "code",
   "execution_count": 37,
   "outputs": [],
   "source": [
    "%%time\n",
    "logMod = LogisticRegression()\n",
    "logMod.fit(X=X_train, y=y_train, plot_cost_vs_iterations=True)\n",
    "predictions = logMod.predict(X_test)\n",
    "parameters = logMod.theta\n",
    "accuracy = computeAccuracy(predictions, y_test)\n",
    "conf_matrix_logMod = getConfusionMatrix(predictions=predictions, actual=y_test)\n",
    "\n",
    "print(\"\\n\\nPrecisión regresión logística (sin género):\", accuracy)\n",
    "print(\"\\nParámetros regresión logística (sin género):\\n\", logMod.theta, \"\\n\\n\")\n",
    "conf_matrix_logMod\n",
    "pd.DataFrame(logMod.theta, columns=[\"Valor del parámetro\"])"
   ],
   "metadata": {
    "collapsed": false,
    "pycharm": {
     "name": "#%%\n",
     "is_executing": false
    }
   }
  },
  {
   "cell_type": "markdown",
   "source": [
    "## c) Probabilidad del paciente"
   ],
   "metadata": {
    "collapsed": false,
    "pycharm": {
     "name": "#%% md\n"
    }
   }
  },
  {
   "cell_type": "code",
   "execution_count": 17,
   "outputs": [],
   "source": [
    "%%time\n",
    "cholesterol = 199\n",
    "edad = 60\n",
    "duracion = 2\n",
    "persona = pd.DataFrame([cholesterol, edad, duracion]).T\n",
    "probabilidad = logMod.predict(persona, return_as_probabilities=True)[0] * 100\n",
    "\n",
    "print(\"Probabilidad (en %):\", probabilidad.astype(int), \"%\")"
   ],
   "metadata": {
    "collapsed": false,
    "pycharm": {
     "name": "#%% \n",
     "is_executing": false
    }
   }
  },
  {
   "cell_type": "markdown",
   "source": [
    "## d) Regresión logística (con género)"
   ],
   "metadata": {
    "collapsed": false,
    "pycharm": {
     "name": "#%% md\n"
    }
   }
  },
  {
   "cell_type": "code",
   "execution_count": 30,
   "outputs": [],
   "source": [
    "%%time\n",
    "X_train2, y_train2, X_test2, y_test2 = get_test_train_X_y(data_incl_sex, objective, train_pctg)\n",
    "logMod2 = LogisticRegression()\n",
    "logMod2.fit(X=X_train2, y=y_train2, plot_cost_vs_iterations=True)\n",
    "predictions2 = logMod2.predict(X_test2)\n",
    "parameters2 = logMod2.theta\n",
    "conf_matrix_logMod2 = getConfusionMatrix(predictions=predictions2, actual=y_test2)\n",
    "accuracy2 = computeAccuracy(predictions2, y_test2)\n",
    "\n",
    "pd.DataFrame(logMod2.theta)\n",
    "print(\"\\n\\nPrecisión regresión logística (con género):\", accuracy2)\n",
    "print(\"\\nParámetros regresión logística (con género):\\n\", logMod2.theta, \"\\n\\n\")\n",
    "conf_matrix_logMod2"
   ],
   "metadata": {
    "collapsed": false,
    "pycharm": {
     "name": "#%%\n",
     "is_executing": false
    }
   }
  },
  {
   "cell_type": "markdown",
   "source": [
    "## e) KNN"
   ],
   "metadata": {
    "collapsed": false
   }
  },
  {
   "cell_type": "code",
   "execution_count": null,
   "outputs": [],
   "source": [
    "%%time\n",
    "knn = KNN(X_train=X_train, y_train=y_train)\n",
    "predictions_knn = knn.predict(examples=X_test, k=5)\n",
    "conf_matrix_knn = getConfusionMatrix(predictions_knn, y_test)\n",
    "accuracy_knn = computeAccuracy(predictions_knn, y_test)\n",
    "\n",
    "print(\"Precisión KNN:\", accuracy_knn, \"\\n\\n\")\n",
    "conf_matrix_knn"
   ],
   "metadata": {
    "collapsed": false,
    "pycharm": {
     "name": "#%%\n"
    }
   }
  },
  {
   "cell_type": "markdown",
   "source": [
    "## f) K-medias"
   ],
   "metadata": {
    "collapsed": false,
    "pycharm": {
     "name": "#%% md\n"
    }
   }
  },
  {
   "cell_type": "code",
   "execution_count": 24,
   "outputs": [],
   "source": [
    "%%time\n",
    "kmeans = KMeans()\n",
    "kmeans.fit(X_train, k=2)\n",
    "predictions_kmeans = kmeans.predict(X_test)\n",
    "conf_matrix_kmeans = getConfusionMatrix(predictions_kmeans, y_test)\n",
    "accuracy_kmeans = computeAccuracy(predictions_kmeans, y_test)   # possibly real accuracy is (1 - accuracy_kmeans) (we don't know which cluster is which)\n",
    "\n",
    "x_axis = \"age\"\n",
    "y_axis = \"choleste\"\n",
    "kmeans.plot(x_axis, y_axis, X_test)\n",
    "print(\"\\n\\nPrecisión K-medias:\", accuracy_kmeans, \"\\n\\n\")\n",
    "conf_matrix_kmeans"
   ],
   "metadata": {
    "collapsed": false,
    "pycharm": {
     "name": "#%%\n",
     "is_executing": false
    }
   }
  }
 ],
 "metadata": {
  "kernelspec": {
   "display_name": "Python 3",
   "language": "python",
   "name": "python3"
  },
  "language_info": {
   "codemirror_mode": {
    "name": "ipython",
    "version": 2
   },
   "file_extension": ".py",
   "mimetype": "text/x-python",
   "name": "python",
   "nbconvert_exporter": "python",
   "pygments_lexer": "ipython2",
   "version": "2.7.6"
  },
  "pycharm": {
   "stem_cell": {
    "cell_type": "raw",
    "source": [],
    "metadata": {
     "collapsed": false
    }
   }
  }
 },
 "nbformat": 4,
 "nbformat_minor": 0
}