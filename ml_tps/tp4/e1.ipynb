{
 "cells": [
  {
   "cell_type": "markdown",
   "metadata": {},
   "source": [
    "# Ejercicio 1"
   ]
  },
  {
   "cell_type": "code",
   "execution_count": 1,
   "metadata": {
    "pycharm": {
     "is_executing": false
    }
   },
   "outputs": [],
   "source": [
    "%%time\n",
    "import os\n",
    "import pandas as pd\n",
    "import pandas_profiling\n",
    "\n",
    "from ml_tps.utils.data_processing import get_test_train_X_y, scale_dataset\n",
    "from ml_tps.algorithms.logistic_regression import LogisticRegression\n",
    "from ml_tps.utils.evaluation import getConfusionMatrix, computeAccuracy\n",
    "from ml_tps.algorithms.k_nearest_neighbors import KNN\n",
    "from ml_tps.algorithms.k_means import KMeans\n",
    "\n",
    "print(\"Dependencias importadas con éxito.\")"
   ]
  },
  {
   "cell_type": "code",
   "execution_count": 2,
   "metadata": {
    "pycharm": {
     "is_executing": false,
     "name": "#%%\n"
    }
   },
   "outputs": [],
   "source": [
    "%%time\n",
    "dir_path = os.path.dirname(os.path.realpath(\"e1.ipynb\"))\n",
    "filepath = f\"{dir_path}/../tp3/data/acath.xls\"\n",
    "data = pd.read_excel(filepath)\n",
    "\n",
    "data.profile_report()"
   ]
  },
  {
   "cell_type": "code",
   "execution_count": 3,
   "metadata": {
    "pycharm": {
     "is_executing": false,
     "name": "#%%\n"
    }
   },
   "outputs": [],
   "source": [
    "%%time\n",
    "objective = \"sigdz\"\n",
    "train_pctg = 0.6\n",
    "\n",
    "data = data.drop(\"tvdlm\", axis=1)\n",
    "data = data.dropna()\n",
    "\n",
    "data = scale_dataset(data, scaling_type=\"minmax\", objective=objective)\n",
    "data_incl_sex = data\n",
    "data = data.drop(\"sex\", axis=1)\n",
    "X_train, y_train, X_test, y_test = get_test_train_X_y(data, objective, train_pctg)\n",
    "\n",
    "print(\"Datos limpiados y procesados.\")"
   ]
  },
  {
   "cell_type": "markdown",
   "metadata": {
    "pycharm": {
     "name": "#%% md\n"
    }
   },
   "source": [
    "## b) Regresión logística"
   ]
  },
  {
   "cell_type": "code",
   "execution_count": 4,
   "metadata": {
    "pycharm": {
     "is_executing": false,
     "name": "#%%\n"
    }
   },
   "outputs": [],
   "source": [
    "%%time\n",
    "logMod = LogisticRegression()\n",
    "logMod.fit(X_train, y_train, plot_cost_vs_iterations=True)\n",
    "predictions = logMod.predict(X_test)\n",
    "parameters = logMod.theta\n",
    "accuracy = computeAccuracy(predictions, y_test)\n",
    "conf_matrix_logMod = getConfusionMatrix(predictions=predictions, actual=y_test)\n",
    "logMod.plot(X_test, predictions)\n",
    "\n",
    "print(\"\\n\\nPrecisión regresión logística (sin género):\", accuracy)\n",
    "print(\"\\nParámetros regresión logística (sin género):\\n\", logMod.theta, \"\\n\\n\")\n",
    "conf_matrix_logMod"
   ]
  },
  {
   "cell_type": "markdown",
   "metadata": {
    "pycharm": {
     "name": "#%% md\n"
    }
   },
   "source": [
    "## c) Probabilidad del paciente"
   ]
  },
  {
   "cell_type": "code",
   "execution_count": 5,
   "metadata": {
    "pycharm": {
     "is_executing": false,
     "name": "#%% \n"
    }
   },
   "outputs": [],
   "source": [
    "%%time\n",
    "cholesterol = 199\n",
    "edad = 60\n",
    "duracion = 2\n",
    "persona = scale_dataset(pd.DataFrame([cholesterol, edad, duracion]).T, scaling_type=\"minmax\")\n",
    "probabilidad = logMod.predict(persona, return_as_probabilities=True)[0] * 100\n",
    "\n",
    "print(\"Probabilidad de que tenga estrechamiento arterial:\", probabilidad.astype(int), \"%\")"
   ]
  },
  {
   "cell_type": "markdown",
   "metadata": {
    "pycharm": {
     "name": "#%% md\n"
    }
   },
   "source": [
    "## d) Regresión logística (con género)"
   ]
  },
  {
   "cell_type": "code",
   "execution_count": 6,
   "metadata": {
    "pycharm": {
     "is_executing": false,
     "name": "#%%\n"
    }
   },
   "outputs": [],
   "source": [
    "%%time\n",
    "X_train2, y_train2, X_test2, y_test2 = get_test_train_X_y(data_incl_sex, objective, train_pctg)\n",
    "logMod2 = LogisticRegression()\n",
    "logMod2.fit(X_train2, y_train2, plot_cost_vs_iterations=True)\n",
    "predictions2 = logMod2.predict(X_test2)\n",
    "conf_matrix_logMod2 = getConfusionMatrix(predictions=predictions2, actual=y_test2)\n",
    "accuracy2 = computeAccuracy(predictions2, y_test2)\n",
    "logMod2.plot(X_test2, predictions2)\n",
    "\n",
    "print(\"\\n\\nPrecisión regresión logística (con género):\", accuracy2)\n",
    "print(\"\\nParámetros regresión logística (con género):\\n\", logMod2.theta, \"\\n\\n\")\n",
    "conf_matrix_logMod2"
   ]
  },
  {
   "cell_type": "markdown",
   "metadata": {},
   "source": [
    "## e) KNN"
   ]
  },
  {
   "cell_type": "code",
   "execution_count": 10,
   "metadata": {
    "pycharm": {
     "is_executing": false,
     "name": "#%%\n"
    },
    "scrolled": true
   },
   "outputs": [],
   "source": [
    "%%time\n",
    "knn = KNN()\n",
    "knn.fit(X_train, y_train)\n",
    "predictions_knn = knn.predict(X_test, k=5)\n",
    "conf_matrix_knn = getConfusionMatrix(predictions_knn, y_test)\n",
    "accuracy_knn = computeAccuracy(predictions_knn, y_test)\n",
    "knn.plot(X_test, predictions_knn)\n",
    "\n",
    "print(\"Precisión KNN:\", accuracy_knn, \"\\n\\n\")\n",
    "conf_matrix_knn"
   ]
  },
  {
   "cell_type": "markdown",
   "metadata": {
    "pycharm": {
     "name": "#%% md\n"
    }
   },
   "source": [
    "## f) K-medias"
   ]
  },
  {
   "cell_type": "code",
   "execution_count": 8,
   "metadata": {
    "pycharm": {
     "is_executing": true,
     "name": "#%%\n"
    }
   },
   "outputs": [],
   "source": [
    "%%time\n",
    "kmeans = KMeans()\n",
    "kmeans.fit(X_train, k=2, plot_centroid_updates=False)\n",
    "predictions_kmeans = kmeans.predict(X_test)\n",
    "conf_matrix_kmeans = getConfusionMatrix(predictions_kmeans, y_test)\n",
    "accuracy_kmeans = computeAccuracy(predictions_kmeans, y_test)   # possibly real accuracy is (1 - accuracy_kmeans) (we don't know which cluster is which)\n",
    "kmeans.plot(X_test, predictions_kmeans)\n",
    "\n",
    "print(\"\\n\\nPrecisión K-medias:\", accuracy_kmeans, \"\\n\\n\")\n",
    "conf_matrix_kmeans"
   ]
  },
  {
   "cell_type": "code",
   "execution_count": 18,
   "metadata": {
    "pycharm": {
     "is_executing": false,
     "name": "#%%\n"
    }
   },
   "outputs": [],
   "source": [
    "from ml_tps.algorithms.kohonen_net import KohonenNet\n",
    "kohonenNet = KohonenNet()\n",
    "kohonenNet.fit(X_train, side=5, alpha=0.9, min_eta=1/1e2)\n",
    "predictions_koho = kohonenNet.predict(X_test)\n",
    "    \n",
    "print(predictions_koho)"
   ]
  }
 ],
 "metadata": {
  "kernelspec": {
   "display_name": "Python 3",
   "language": "python",
   "name": "python3"
  },
  "language_info": {
   "codemirror_mode": {
    "name": "ipython",
    "version": 3
   },
   "file_extension": ".py",
   "mimetype": "text/x-python",
   "name": "python",
   "nbconvert_exporter": "python",
   "pygments_lexer": "ipython3",
   "version": "3.7.3"
  },
  "pycharm": {
   "stem_cell": {
    "cell_type": "raw",
    "metadata": {
     "collapsed": false
    },
    "source": []
   }
  }
 },
 "nbformat": 4,
 "nbformat_minor": 1
}