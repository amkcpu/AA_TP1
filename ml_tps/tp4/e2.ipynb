{
 "cells": [
  {
   "cell_type": "code",
   "execution_count": 1,
   "metadata": {
    "collapsed": true,
    "pycharm": {
     "is_executing": false
    }
   },
   "outputs": [],
   "source": [
    "%%time\n",
    "import os\n",
    "import codecs\n",
    "import pandas as pd\n",
    "\n",
    "from ml_tps.utils.text_processing import no_unique_words, no_words_with_word_part, most_frequent_words, word_frequency\n",
    "\n",
    "from ml_tps.algorithms.k_means import KMeans\n",
    "from ml_tps.algorithms.hierarchical_clustering import HierarchicalClustering\n",
    "from ml_tps.algorithms.kohonen_net import KohonenNet\n",
    "\n",
    "from ml_tps.utils.evaluation import getConfusionMatrix, computeAccuracy\n",
    "\n",
    "print(\"Dependencies imported.\")"
   ]
  },
  {
   "cell_type": "code",
   "execution_count": 2,
   "outputs": [],
   "source": [
    "%%time\n",
    "\n",
    "conj_subordinantes = [\"porque\", \"pues\", \"ya\", \"puesto que\", \"a causa de\", \"debido a\",\n",
    "                      \"luego\", \"conque\", \"así que\",\n",
    "                      \"si\",\n",
    "                      \"para que\", \"a fin de que\",\n",
    "                      \"como\", \"que\",\n",
    "                      \"aunque\", \"aun cuando\", \"si bien\",\n",
    "                      \"que\", \"si\"]\n",
    "conj_coordinantes = [\"ni\", \"y\", \"o\", \"o bien\", \"pero aunque\", \"no obstante\", \"sin embargo\", \"sino\", \"por el contrario\"]\n",
    "art_determinados = [\"la\", \"el\", \"los\", \"las\"]\n",
    "art_indeterminados = [\"un\", \"una\", \"unos\", \"unas\"]\n",
    "\n",
    "dir_path = os.path.dirname(os.path.realpath(\"e2.ipynb\"))\n",
    "filepath = f\"{dir_path}/../tp4/data/\"\n",
    "\n",
    "data = []\n",
    "i = 1\n",
    "for author in [\"Calderaro\", \"Fonteveccia\", \"Pagni\", \"Vanderkooy\", \"Verbitsky\"]:\n",
    "    for i in range(1, 11):\n",
    "        extracted_text = codecs.open((filepath + author + \"/\" + author + str(i) + \".txt\"),\n",
    "                                     encoding=\"latin-1\").read().lower()\n",
    "        # extracted_words = extract_words_from_text(extracted_text, prevent_uppercase_duplicates=True)\n",
    "        extracted_data = [author,\n",
    "                          most_frequent_words(extracted_text, no_words=5, normalize=True).sum(),\n",
    "                          no_unique_words(extracted_text, normalize=True),\n",
    "                          word_frequency(extracted_text, list_of_words=conj_subordinantes, normalize=True, average=True),\n",
    "                          word_frequency(extracted_text, list_of_words=conj_coordinantes, normalize=True, average=True),\n",
    "                          word_frequency(extracted_text, list_of_words=art_determinados, normalize=True, average=True),\n",
    "                          word_frequency(extracted_text, list_of_words=art_indeterminados, normalize=True, average=True),\n",
    "                          no_words_with_word_part(extracted_text, word_part=\"mente\", mode=\"ending\", normalize=True)]\n",
    "        data.append(extracted_data)\n",
    "\n",
    "data = pd.DataFrame(data, columns=[\"Autor\",\n",
    "                                   \"5 palabras más usadas\",\n",
    "                                   \"Palabras distintas\",\n",
    "                                   \"Conjunciones subord.\",\n",
    "                                   \"Conjunciones coordinantes\",\n",
    "                                   \"Artículos determinados\",\n",
    "                                   \"Artículos indeterminados\",\n",
    "                                   \"Adverbios terminados en -mente\"])   # always using relative frequencies\n",
    "\n",
    "X = data.drop([\"Autor\", \"5 palabras más usadas\", \"Artículos determinados\", \"Artículos indeterminados\"], axis=1)\n",
    "y = data[\"Autor\"]\n",
    "data.head()"
   ],
   "metadata": {
    "collapsed": false,
    "pycharm": {
     "name": "#%%\n",
     "is_executing": false
    }
   }
  },
  {
   "cell_type": "markdown",
   "source": [
    "## K-medias"
   ],
   "metadata": {
    "collapsed": false,
    "pycharm": {
     "name": "#%% md\n"
    }
   }
  },
  {
   "cell_type": "code",
   "execution_count": 6,
   "outputs": [],
   "source": [
    "%%time\n",
    "k_means = KMeans()\n",
    "k_means.fit(X, k=5)\n",
    "k_means_predictions = k_means.predict(X)\n",
    "conf_matrix_kmeans = getConfusionMatrix(predictions=k_means_predictions, actual=y)\n",
    "k_means.plot(X, k_means_predictions)\n",
    "\n",
    "conf_matrix_kmeans\n"
   ],
   "metadata": {
    "collapsed": false,
    "pycharm": {
     "name": "#%%\n",
     "is_executing": false
    }
   }
  },
  {
   "cell_type": "markdown",
   "source": [
    "## Agrupación Jerárquica"
   ],
   "metadata": {
    "collapsed": false,
    "pycharm": {
     "name": "#%% md\n"
    }
   }
  },
  {
   "cell_type": "code",
   "execution_count": 7,
   "outputs": [],
   "source": [
    "%%time\n",
    "hc = HierarchicalClustering()\n",
    "hc.fit(X, max_no_clusters=5)\n",
    "hc_predictions = hc.predict(X)\n",
    "conf_matrix_hc = getConfusionMatrix(predictions=hc_predictions, actual=y)\n",
    "\n",
    "hc.plot(X, hc_predictions)\n",
    "hc.plot_dendrogram(color_threshold=0.03)\n",
    "\n",
    "conf_matrix_hc"
   ],
   "metadata": {
    "collapsed": false,
    "pycharm": {
     "name": "#%%\n",
     "is_executing": false
    }
   }
  },
  {
   "cell_type": "markdown",
   "source": [
    "## Red de Kohonen"
   ],
   "metadata": {
    "collapsed": false,
    "pycharm": {
     "name": "#%% md\n"
    }
   }
  },
  {
   "cell_type": "code",
   "execution_count": 5,
   "outputs": [],
   "source": [
    "%%time\n",
    "kohonen = KohonenNet()\n",
    "kohonen.fit(X, side=4, min_eta = 0.1, alpha = 0.5)\n",
    "kohonen.plot(pd.concat([y, X], axis=1), objective=\"Autor\")"
   ],
   "metadata": {
    "collapsed": false,
    "pycharm": {
     "name": "#%%\n",
     "is_executing": false
    }
   }
  }
 ],
 "metadata": {
  "kernelspec": {
   "display_name": "Python 3",
   "language": "python",
   "name": "python3"
  },
  "language_info": {
   "codemirror_mode": {
    "name": "ipython",
    "version": 2
   },
   "file_extension": ".py",
   "mimetype": "text/x-python",
   "name": "python",
   "nbconvert_exporter": "python",
   "pygments_lexer": "ipython2",
   "version": "2.7.6"
  },
  "pycharm": {
   "stem_cell": {
    "cell_type": "raw",
    "source": [],
    "metadata": {
     "collapsed": false
    }
   }
  }
 },
 "nbformat": 4,
 "nbformat_minor": 0
}