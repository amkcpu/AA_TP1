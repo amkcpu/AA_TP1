{
 "cells": [
  {
   "cell_type": "code",
   "execution_count": 1,
   "metadata": {
    "pycharm": {
     "is_executing": false
    }
   },
   "outputs": [
    {
     "name": "stdout",
     "output_type": "stream",
     "text": [
      "Dependencies imported.\n",
      "Wall time: 12.6 s\n"
     ]
    }
   ],
   "source": [
    "%%time\n",
    "import os\n",
    "import codecs\n",
    "import pandas as pd\n",
    "\n",
    "from ml_tps.utils.text_processing import no_unique_words, no_words_with_word_part, most_frequent_words, word_frequency\n",
    "\n",
    "from ml_tps.utils.data_processing import scale_dataset\n",
    "\n",
    "from ml_tps.algorithms.k_means import KMeans\n",
    "from ml_tps.algorithms.hierarchical_clustering import HierarchicalClustering\n",
    "from ml_tps.algorithms.kohonen_net import KohonenNet\n",
    "\n",
    "from ml_tps.utils.evaluation import getConfusionMatrix\n",
    "\n",
    "print(\"Dependencies imported.\")"
   ]
  },
  {
   "cell_type": "code",
   "execution_count": 4,
   "metadata": {
    "pycharm": {
     "is_executing": false,
     "name": "#%%\n"
    }
   },
   "outputs": [
    {
     "name": "stdout",
     "output_type": "stream",
     "text": [
      "Wall time: 4.67 s\n"
     ]
    },
    {
     "data": {
      "text/html": [
       "<div>\n",
       "<style scoped>\n",
       "    .dataframe tbody tr th:only-of-type {\n",
       "        vertical-align: middle;\n",
       "    }\n",
       "\n",
       "    .dataframe tbody tr th {\n",
       "        vertical-align: top;\n",
       "    }\n",
       "\n",
       "    .dataframe thead th {\n",
       "        text-align: right;\n",
       "    }\n",
       "</style>\n",
       "<table border=\"1\" class=\"dataframe\">\n",
       "  <thead>\n",
       "    <tr style=\"text-align: right;\">\n",
       "      <th></th>\n",
       "      <th>5 palabras más usadas</th>\n",
       "      <th>Palabras distintas</th>\n",
       "      <th>Conjunciones subord.</th>\n",
       "      <th>Conjunciones coordinantes</th>\n",
       "      <th>Artículos determinados</th>\n",
       "      <th>Artículos indeterminados</th>\n",
       "      <th>Adverbios terminados en -mente</th>\n",
       "      <th>Autor</th>\n",
       "    </tr>\n",
       "  </thead>\n",
       "  <tbody>\n",
       "    <tr>\n",
       "      <th>0</th>\n",
       "      <td>0.680729</td>\n",
       "      <td>0.313680</td>\n",
       "      <td>0.476924</td>\n",
       "      <td>0.697165</td>\n",
       "      <td>0.733993</td>\n",
       "      <td>0.108503</td>\n",
       "      <td>0.138600</td>\n",
       "      <td>Calderaro</td>\n",
       "    </tr>\n",
       "    <tr>\n",
       "      <th>1</th>\n",
       "      <td>0.689299</td>\n",
       "      <td>0.323582</td>\n",
       "      <td>0.809494</td>\n",
       "      <td>0.794584</td>\n",
       "      <td>0.427924</td>\n",
       "      <td>0.000000</td>\n",
       "      <td>0.000000</td>\n",
       "      <td>Calderaro</td>\n",
       "    </tr>\n",
       "    <tr>\n",
       "      <th>2</th>\n",
       "      <td>0.541973</td>\n",
       "      <td>0.654072</td>\n",
       "      <td>0.327488</td>\n",
       "      <td>1.000000</td>\n",
       "      <td>0.287942</td>\n",
       "      <td>0.249032</td>\n",
       "      <td>0.000000</td>\n",
       "      <td>Calderaro</td>\n",
       "    </tr>\n",
       "    <tr>\n",
       "      <th>3</th>\n",
       "      <td>0.739651</td>\n",
       "      <td>0.362624</td>\n",
       "      <td>0.672268</td>\n",
       "      <td>0.502522</td>\n",
       "      <td>0.434054</td>\n",
       "      <td>0.096497</td>\n",
       "      <td>0.488605</td>\n",
       "      <td>Calderaro</td>\n",
       "    </tr>\n",
       "    <tr>\n",
       "      <th>4</th>\n",
       "      <td>0.615397</td>\n",
       "      <td>0.338700</td>\n",
       "      <td>0.471989</td>\n",
       "      <td>0.121430</td>\n",
       "      <td>0.468765</td>\n",
       "      <td>0.288961</td>\n",
       "      <td>0.439061</td>\n",
       "      <td>Calderaro</td>\n",
       "    </tr>\n",
       "  </tbody>\n",
       "</table>\n",
       "</div>"
      ],
      "text/plain": [
       "   5 palabras más usadas  Palabras distintas  Conjunciones subord.  \\\n",
       "0               0.680729            0.313680              0.476924   \n",
       "1               0.689299            0.323582              0.809494   \n",
       "2               0.541973            0.654072              0.327488   \n",
       "3               0.739651            0.362624              0.672268   \n",
       "4               0.615397            0.338700              0.471989   \n",
       "\n",
       "   Conjunciones coordinantes  Artículos determinados  \\\n",
       "0                   0.697165                0.733993   \n",
       "1                   0.794584                0.427924   \n",
       "2                   1.000000                0.287942   \n",
       "3                   0.502522                0.434054   \n",
       "4                   0.121430                0.468765   \n",
       "\n",
       "   Artículos indeterminados  Adverbios terminados en -mente      Autor  \n",
       "0                  0.108503                        0.138600  Calderaro  \n",
       "1                  0.000000                        0.000000  Calderaro  \n",
       "2                  0.249032                        0.000000  Calderaro  \n",
       "3                  0.096497                        0.488605  Calderaro  \n",
       "4                  0.288961                        0.439061  Calderaro  "
      ]
     },
     "execution_count": 4,
     "metadata": {},
     "output_type": "execute_result"
    }
   ],
   "source": [
    "%%time\n",
    "\n",
    "conj_subordinantes = [\"porque\", \"pues\", \"ya\", \"puesto que\", \"a causa de\", \"debido a\",\n",
    "                      \"luego\", \"conque\", \"así que\",\n",
    "                      \"si\",\n",
    "                      \"para que\", \"a fin de que\",\n",
    "                      \"como\", \"que\",\n",
    "                      \"aunque\", \"aun cuando\", \"si bien\",\n",
    "                      \"que\", \"si\"]\n",
    "conj_coordinantes = [\"ni\", \"y\", \"o\", \"o bien\", \"pero aunque\", \"no obstante\", \"sin embargo\", \"sino\", \"por el contrario\"]\n",
    "art_determinados = [\"la\", \"el\", \"los\", \"las\"]\n",
    "art_indeterminados = [\"un\", \"una\", \"unos\", \"unas\"]\n",
    "\n",
    "dir_path = os.path.dirname(os.path.realpath(\"e2.ipynb\"))\n",
    "filepath = f\"{dir_path}/../tp4/data/\"\n",
    "\n",
    "data = []\n",
    "i = 1\n",
    "for author in [\"Calderaro\", \"Fonteveccia\", \"Pagni\", \"Vanderkooy\", \"Verbitsky\"]:\n",
    "    for i in range(1, 11):\n",
    "        extracted_text = codecs.open((filepath + author + \"/\" + author + str(i) + \".txt\"),\n",
    "                                     encoding=\"latin-1\").read().lower()\n",
    "        # extracted_words = extract_words_from_text(extracted_text, prevent_uppercase_duplicates=True)\n",
    "        extracted_data = [author,\n",
    "                          most_frequent_words(extracted_text, no_words=5, normalize=True).sum(),\n",
    "                          no_unique_words(extracted_text, normalize=True),\n",
    "                          word_frequency(extracted_text, list_of_words=conj_subordinantes, normalize=True, average=True),\n",
    "                          word_frequency(extracted_text, list_of_words=conj_coordinantes, normalize=True, average=True),\n",
    "                          word_frequency(extracted_text, list_of_words=art_determinados, normalize=True, average=True),\n",
    "                          word_frequency(extracted_text, list_of_words=art_indeterminados, normalize=True, average=True),\n",
    "                          no_words_with_word_part(extracted_text, word_part=\"mente\", mode=\"ending\", normalize=True)]\n",
    "        data.append(extracted_data)\n",
    "\n",
    "data = pd.DataFrame(data, columns=[\"Autor\",\n",
    "                                   \"5 palabras más usadas\",\n",
    "                                   \"Palabras distintas\",\n",
    "                                   \"Conjunciones subord.\",\n",
    "                                   \"Conjunciones coordinantes\",\n",
    "                                   \"Artículos determinados\",\n",
    "                                   \"Artículos indeterminados\",\n",
    "                                   \"Adverbios terminados en -mente\"])   # always using relative frequencies\n",
    "\n",
    "data = scale_dataset(data, scaling_type=\"minmax\", objective=\"Autor\")\n",
    "X = data.drop(\"Autor\", axis=1)\n",
    "y = data[\"Autor\"]\n",
    "data.head()"
   ]
  },
  {
   "cell_type": "markdown",
   "metadata": {
    "pycharm": {
     "name": "#%% md\n"
    }
   },
   "source": [
    "## K-medias"
   ]
  },
  {
   "cell_type": "code",
   "execution_count": 6,
   "metadata": {
    "pycharm": {
     "is_executing": false,
     "name": "#%%\n"
    }
   },
   "outputs": [],
   "source": [
    "%%time\n",
    "k_means = KMeans()\n",
    "k_means.fit(X, k=5)\n",
    "k_means_predictions = k_means.predict(X)\n",
    "conf_matrix_kmeans = getConfusionMatrix(predictions=k_means_predictions, actual=y)\n",
    "k_means.plot(X, k_means_predictions)\n",
    "\n",
    "conf_matrix_kmeans\n"
   ]
  },
  {
   "cell_type": "markdown",
   "metadata": {
    "pycharm": {
     "name": "#%% md\n"
    }
   },
   "source": [
    "## Agrupación Jerárquica"
   ]
  },
  {
   "cell_type": "code",
   "execution_count": 7,
   "metadata": {
    "pycharm": {
     "is_executing": false,
     "name": "#%%\n"
    }
   },
   "outputs": [],
   "source": [
    "%%time\n",
    "hc = HierarchicalClustering()\n",
    "hc.fit(X, no_clusters=5)\n",
    "hc_predictions = hc.predict(X)\n",
    "conf_matrix_hc = getConfusionMatrix(predictions=hc_predictions, actual=y)\n",
    "\n",
    "hc.plot(X, hc_predictions)\n",
    "hc.plot_dendrogram()\n",
    "\n",
    "conf_matrix_hc"
   ]
  },
  {
   "cell_type": "markdown",
   "metadata": {
    "pycharm": {
     "name": "#%% md\n"
    }
   },
   "source": [
    "## Red de Kohonen"
   ]
  },
  {
   "cell_type": "code",
   "execution_count": 3,
   "metadata": {
    "pycharm": {
     "is_executing": false,
     "name": "#%%\n"
    }
   },
   "outputs": [
    {
     "name": "stdout",
     "output_type": "stream",
     "text": [
      "Current eta =  0.14002800840280097\n",
      "Current eta =  0.09950371902099892\n"
     ]
    },
    {
     "ename": "IndexError",
     "evalue": "too many indices for array",
     "output_type": "error",
     "traceback": [
      "\u001b[1;31m---------------------------------------------------------------------------\u001b[0m",
      "\u001b[1;31mIndexError\u001b[0m                                Traceback (most recent call last)",
      "\u001b[1;32m<timed exec>\u001b[0m in \u001b[0;36m<module>\u001b[1;34m\u001b[0m\n",
      "\u001b[1;32mc:\\users\\daniel\\pycharmprojects\\aa_tp1\\ml_tps\\algorithms\\kohonen_net.py\u001b[0m in \u001b[0;36mplot\u001b[1;34m(self, data, objective)\u001b[0m\n\u001b[0;32m    117\u001b[0m         \u001b[1;32mfor\u001b[0m \u001b[0mcl\u001b[0m \u001b[1;32min\u001b[0m \u001b[0mclasses\u001b[0m\u001b[1;33m:\u001b[0m\u001b[1;33m\u001b[0m\u001b[1;33m\u001b[0m\u001b[0m\n\u001b[0;32m    118\u001b[0m             \u001b[0mpredictions\u001b[0m \u001b[1;33m=\u001b[0m \u001b[0mself\u001b[0m\u001b[1;33m.\u001b[0m\u001b[0mpredict\u001b[0m\u001b[1;33m(\u001b[0m\u001b[0mdata\u001b[0m\u001b[1;33m[\u001b[0m\u001b[0mdata\u001b[0m\u001b[1;33m[\u001b[0m\u001b[0mobjective\u001b[0m\u001b[1;33m]\u001b[0m \u001b[1;33m==\u001b[0m \u001b[0mcl\u001b[0m\u001b[1;33m]\u001b[0m\u001b[1;33m.\u001b[0m\u001b[0mdrop\u001b[0m\u001b[1;33m(\u001b[0m\u001b[0mobjective\u001b[0m\u001b[1;33m,\u001b[0m \u001b[0maxis\u001b[0m\u001b[1;33m=\u001b[0m\u001b[1;36m1\u001b[0m\u001b[1;33m)\u001b[0m\u001b[1;33m)\u001b[0m\u001b[1;33m\u001b[0m\u001b[1;33m\u001b[0m\u001b[0m\n\u001b[1;32m--> 119\u001b[1;33m             \u001b[0max\u001b[0m\u001b[1;33m[\u001b[0m\u001b[0mi\u001b[0m\u001b[1;33m,\u001b[0m \u001b[0mj\u001b[0m\u001b[1;33m]\u001b[0m\u001b[1;33m.\u001b[0m\u001b[0mset_title\u001b[0m\u001b[1;33m(\u001b[0m\u001b[0mcl\u001b[0m\u001b[1;33m)\u001b[0m\u001b[1;33m\u001b[0m\u001b[1;33m\u001b[0m\u001b[0m\n\u001b[0m\u001b[0;32m    120\u001b[0m             \u001b[0max\u001b[0m\u001b[1;33m[\u001b[0m\u001b[0mi\u001b[0m\u001b[1;33m,\u001b[0m \u001b[0mj\u001b[0m\u001b[1;33m]\u001b[0m\u001b[1;33m.\u001b[0m\u001b[0mimshow\u001b[0m\u001b[1;33m(\u001b[0m\u001b[0mpredictions\u001b[0m\u001b[1;33m,\u001b[0m \u001b[0mcmap\u001b[0m\u001b[1;33m=\u001b[0m\u001b[1;34m\"Greys\"\u001b[0m\u001b[1;33m)\u001b[0m\u001b[1;33m\u001b[0m\u001b[1;33m\u001b[0m\u001b[0m\n\u001b[0;32m    121\u001b[0m             \u001b[0msummed_activations\u001b[0m \u001b[1;33m+=\u001b[0m \u001b[0mpredictions\u001b[0m\u001b[1;33m\u001b[0m\u001b[1;33m\u001b[0m\u001b[0m\n",
      "\u001b[1;31mIndexError\u001b[0m: too many indices for array"
     ]
    },
    {
     "data": {
      "image/png": "[encoded data removed]",
      "text/plain": [
       "<Figure size 432x288 with 4 Axes>"
      ]
     },
     "metadata": {
      "needs_background": "light"
     },
     "output_type": "display_data"
    }
   ],
   "source": [
    "%%time\n",
    "kohonen = KohonenNet()\n",
    "kohonen.fit(X, side=4, min_eta = 0.1, alpha = 0.5)\n",
    "kohonen.plot(pd.concat([y, X], axis=1), objective=\"Autor\")"
   ]
  }
 ],
 "metadata": {
  "kernelspec": {
   "display_name": "Python 3",
   "language": "python",
   "name": "python3"
  },
  "language_info": {
   "codemirror_mode": {
    "name": "ipython",
    "version": 3
   },
   "file_extension": ".py",
   "mimetype": "text/x-python",
   "name": "python",
   "nbconvert_exporter": "python",
   "pygments_lexer": "ipython3",
   "version": "3.7.3"
  },
  "pycharm": {
   "stem_cell": {
    "cell_type": "raw",
    "metadata": {
     "collapsed": false
    },
    "source": []
   }
  }
 },
 "nbformat": 4,
 "nbformat_minor": 1
}
